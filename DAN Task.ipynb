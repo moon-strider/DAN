{
 "cells": [
  {
   "cell_type": "code",
   "execution_count": 1,
   "id": "7f9c64fb",
   "metadata": {},
   "outputs": [
    {
     "name": "stderr",
     "output_type": "stream",
     "text": [
      "/home/ilia/Deps/miniconda3/envs/cv/lib/python3.9/site-packages/tqdm/auto.py:22: TqdmWarning: IProgress not found. Please update jupyter and ipywidgets. See https://ipywidgets.readthedocs.io/en/stable/user_install.html\n",
      "  from .autonotebook import tqdm as notebook_tqdm\n"
     ]
    }
   ],
   "source": [
    "from typing import Dict, List\n",
    "\n",
    "import matplotlib.pyplot as plt\n",
    "import numpy as np\n",
    "import pandas as pd\n",
    "import seaborn as sns\n",
    "import torch\n",
    "\n",
    "from datasets import load_dataset\n",
    "from nltk.tokenize import ToktokTokenizer\n",
    "from sklearn.metrics import f1_score\n",
    "from torch import nn\n",
    "from torch.utils.data import DataLoader\n",
    "from tqdm import tqdm"
   ]
  },
  {
   "cell_type": "markdown",
   "id": "102d7074",
   "metadata": {},
   "source": [
    "# Deep Average Network для определения сентимента "
   ]
  },
  {
   "cell_type": "markdown",
   "id": "46d972fe",
   "metadata": {},
   "source": [
    "В этой домашке мы будет классифицировать твиты на 3 тональности.  \n",
    "Вы будете использовать предобученные эмбеддинги слов, так что для начала обязательно нужно посмотреть [туториал по их использованию](https://github.com/BobaZooba/DeepNLP/blob/master/Tutorials/Word%20vectors%20%26%20Data%20Loading.ipynb).\n",
    "\n",
    "Наши классы:  \n",
    "\n",
    "Индекс | Sentiment  \n",
    "-- | --  \n",
    "0 | negative  \n",
    "1 | neutral  \n",
    "2 | positive  "
   ]
  },
  {
   "cell_type": "markdown",
   "id": "55010212",
   "metadata": {},
   "source": [
    "Вам предстоит реализовать такую модель:\n",
    "![Архитектура модели DAN](https://www.researchgate.net/profile/Shervin-Minaee/publication/340523298/figure/fig1/AS:878252264550411@1586403065555/The-architecture-of-the-Deep-Average-Network-DAN-10.ppm)\n",
    "\n",
    "Что она из себя представляет:\n",
    "- Мы подаем в нее индексы слов\n",
    "- Переводим индексы слов в эмбеддинги\n",
    "- Усредняем эмбеддинги\n",
    "- Пропускаем усредненные эмбеддинги через `Multilayer Perceptron`\n",
    "\n",
    "В этой домашке вам предстоит:\n",
    "- Перевести тексты в матрицы с индексами токенов\n",
    "- Реализовать модель\n",
    "- Обучить ее\n",
    "- Понять хорошо ли вы это сделали\n",
    "\n",
    "Это очень важная модель, потому что она очень простая и показывает достаточно высокие метрики. В дальнейшем на работе советую использовать такую модель как бейзлайн. И в качестве эмбеддингов слов взять эмбеддинги от берта/роберты/тд."
   ]
  },
  {
   "cell_type": "markdown",
   "id": "65faf753",
   "metadata": {},
   "source": [
    "## 🤗 Datasets\n",
    "В этом туториале мы будем использовать подготовленные данные из библиотеки [datasets](https://github.com/huggingface/datasets). Мы вряд ли еще будем пользоваться этой библиотекой, так как нам будет важно самим подготавливать данные. Во-первых, для простоты, во-вторых, здесь есть достаточно неплохие практики. [Здесь](https://huggingface.co/datasets) вы сможете найти достаточно большое количество различных датасетов. Возможно, когда-нибудь они вам пригодятся."
   ]
  },
  {
   "cell_type": "markdown",
   "id": "5927f02a",
   "metadata": {},
   "source": [
    "## Загрузите эмбеддинги слов\n",
    "Реализуйте функцию по загрузке эмбеддингов из файла. Она должна отдавать словарь слов и `np.array`\n",
    "Формат словаря:\n",
    "```python\n",
    "{\n",
    "    'aabra': 0,\n",
    "    ...,\n",
    "    'mom': 6546,\n",
    "    ...\n",
    "    'xyz': 100355\n",
    "}\n",
    "```\n",
    "Формат матрицы эмбеддингов:\n",
    "```python\n",
    "array([[0.44442278, 0.28644582, 0.04357426, ..., 0.9425766 , 0.02024289,\n",
    "        0.88456545],\n",
    "       [0.77599317, 0.35188237, 0.54801261, ..., 0.91134102, 0.88599103,\n",
    "        0.88068835],\n",
    "       [0.68071886, 0.29352313, 0.95952505, ..., 0.19127958, 0.97723054,\n",
    "        0.36294011],\n",
    "       ...,\n",
    "       [0.03589378, 0.85429694, 0.33437761, ..., 0.39784873, 0.80368014,\n",
    "        0.76368042],\n",
    "       [0.01498725, 0.78155695, 0.80372969, ..., 0.82051826, 0.42314861,\n",
    "        0.18655465],\n",
    "       [0.69263802, 0.82090775, 0.27150426, ..., 0.86582747, 0.40896573,\n",
    "        0.33423976]])\n",
    "```\n",
    "\n",
    "Количество строк в матрице эмбеддингов должно совпадать с размером словаря, то есть для каждого токена должен быть свой эмбеддинг. По параметру `num_tokens` должно брать не более указано в этом параметре количество токенов в словарь и матрицу эмбеддингов."
   ]
  },
  {
   "cell_type": "markdown",
   "id": "c46b2b68",
   "metadata": {},
   "source": [
    "## Загружаем данные из библиотеки\n",
    "Мы сразу получим `torch.utils.data.Dataset`, который сможем передать в `torch.utils.data.DataLoader`"
   ]
  },
  {
   "cell_type": "code",
   "execution_count": 2,
   "id": "e54fdaa8",
   "metadata": {},
   "outputs": [
    {
     "name": "stderr",
     "output_type": "stream",
     "text": [
      "Found cached dataset tweet_eval (/home/ilia/.cache/huggingface/datasets/tweet_eval/sentiment/1.1.0/12aee5282b8784f3e95459466db4cdf45c6bf49719c25cdb0743d71ed0410343)\n",
      "Found cached dataset tweet_eval (/home/ilia/.cache/huggingface/datasets/tweet_eval/sentiment/1.1.0/12aee5282b8784f3e95459466db4cdf45c6bf49719c25cdb0743d71ed0410343)\n",
      "Found cached dataset tweet_eval (/home/ilia/.cache/huggingface/datasets/tweet_eval/sentiment/1.1.0/12aee5282b8784f3e95459466db4cdf45c6bf49719c25cdb0743d71ed0410343)\n"
     ]
    }
   ],
   "source": [
    "dataset_path = \"tweet_eval\"\n",
    "dataset_name = \"sentiment\"\n",
    "\n",
    "train_dataset = load_dataset(path=dataset_path, name=dataset_name, split=\"train\")\n",
    "valid_dataset = load_dataset(path=dataset_path, name=dataset_name, split=\"validation\")\n",
    "test_dataset = load_dataset(path=dataset_path, name=dataset_name, split=\"test\")"
   ]
  },
  {
   "cell_type": "markdown",
   "id": "ad4a0650",
   "metadata": {},
   "source": [
    "## `torch.utils.data.DataLoader`"
   ]
  },
  {
   "cell_type": "code",
   "execution_count": 3,
   "id": "dc742027",
   "metadata": {},
   "outputs": [],
   "source": [
    "train_loader = DataLoader(train_dataset, batch_size=2, shuffle=True)\n",
    "valid_loader = DataLoader(valid_dataset, batch_size=2, shuffle=False)\n",
    "test_loader = DataLoader(test_dataset, batch_size=2, shuffle=False)"
   ]
  },
  {
   "cell_type": "markdown",
   "id": "e9012ae5",
   "metadata": {},
   "source": [
    "## Посмотрим что отдает нам `Loader`\n",
    "Это батч формата:\n",
    "```python\n",
    "batch = {\n",
    "    \"text\": [\n",
    "        \"text1\",\n",
    "        \"text2\",\n",
    "        ...,\n",
    "        \"textn\"\n",
    "    ],\n",
    "    \"label\": tensor([\n",
    "        1,\n",
    "        1,\n",
    "        ...,\n",
    "        0\n",
    "    ])\n",
    "}\n",
    "```\n",
    "То есть у нас есть словарь с двумя ключами `text` и `label`, где хранится n примеров. То есть для 5-го примера в батче текст будет храниться в `batch[\"text\"][5]`, а индекс класса будет храниться в `batch[\"label\"][5]`."
   ]
  },
  {
   "cell_type": "code",
   "execution_count": 4,
   "id": "49bf6b50",
   "metadata": {},
   "outputs": [
    {
     "data": {
      "text/plain": [
       "{'text': ['C\\\\u2019mon Rebels\\\\u002c put an apple in the pigs mouth!!!   Red Wolves fans focus all of your hate & anger at the pigs tomorrow.',\n",
       "  \"Hey happy Friday!!! Today T&amp;P will be giving away a pair of tickets to the Zac Brown Band's August 7th show at...\"],\n",
       " 'label': tensor([0, 2])}"
      ]
     },
     "execution_count": 4,
     "metadata": {},
     "output_type": "execute_result"
    }
   ],
   "source": [
    "for batch in train_loader:\n",
    "    break\n",
    "\n",
    "batch"
   ]
  },
  {
   "cell_type": "markdown",
   "id": "b0b9f0e6",
   "metadata": {},
   "source": [
    "## Collate\n",
    "Сейчас перед нами стоит проблема: мы получаем тексты в виде строк, а нам нужны тензоры (матрицы) с индексами токенов, к тому же нам нужно западить последовательности токенов, чтобы все сложить в торчовую матрицу. Мы можем сделать это двумя способами:\n",
    "- Достать из `train/valid/test_dataset` данные и написать свой `Dataset`, где внутри будет токенизировать текст, токены будут переводиться в индексы и затем последовательность будет падиться до нужной длины\n",
    "- Сделать функцию, которая бы дополнительно обрабатывали наши батчи. Она вставляется в `DataLoader(collate_fn=<ВАША_ФУНКЦИЯ>)`"
   ]
  },
  {
   "cell_type": "markdown",
   "id": "d03b0f2e",
   "metadata": {},
   "source": [
    "## Если вы хотите сделать свой `Dataset`\n",
    "То вы можете достать данные таким образом."
   ]
  },
  {
   "cell_type": "code",
   "execution_count": 5,
   "id": "26771f88",
   "metadata": {},
   "outputs": [
    {
     "data": {
      "text/plain": [
       "(45615, 45615)"
      ]
     },
     "execution_count": 5,
     "metadata": {},
     "output_type": "execute_result"
    }
   ],
   "source": [
    "len(train_dataset[\"text\"]), len(train_dataset[\"label\"])"
   ]
  },
  {
   "cell_type": "code",
   "execution_count": 6,
   "id": "f25200be",
   "metadata": {},
   "outputs": [
    {
     "data": {
      "text/plain": [
       "['\"QT @user In the original draft of the 7th book, Remus Lupin survived the Battle of Hogwarts. #HappyBirthdayRemusLupin\"',\n",
       " '\"Ben Smith / Smith (concussion) remains out of the lineup Thursday, Curtis #NHL #SJ\"']"
      ]
     },
     "execution_count": 6,
     "metadata": {},
     "output_type": "execute_result"
    }
   ],
   "source": [
    "train_dataset[\"text\"][:2]"
   ]
  },
  {
   "cell_type": "code",
   "execution_count": 7,
   "id": "d4c952b6",
   "metadata": {},
   "outputs": [
    {
     "data": {
      "text/plain": [
       "[2, 1]"
      ]
     },
     "execution_count": 7,
     "metadata": {},
     "output_type": "execute_result"
    }
   ],
   "source": [
    "train_dataset[\"label\"][:2]"
   ]
  },
  {
   "cell_type": "markdown",
   "id": "68184652",
   "metadata": {},
   "source": [
    "## Если вы хотите сделать `collate_fn`"
   ]
  },
  {
   "cell_type": "markdown",
   "id": "706dab4d",
   "metadata": {},
   "source": [
    "### Давайте посмотрим что вообще происходит внутри этого метода\n",
    "Для этого сделаем функцию `empty_collate`, которая принимает на вход батч и отдает его, ничего с ним не делая"
   ]
  },
  {
   "cell_type": "code",
   "execution_count": 8,
   "id": "3b7ce86b",
   "metadata": {},
   "outputs": [],
   "source": [
    "def empty_collate(batch):\n",
    "    return batch"
   ]
  },
  {
   "cell_type": "code",
   "execution_count": 9,
   "id": "26f0fe92",
   "metadata": {},
   "outputs": [],
   "source": [
    "train_loader = DataLoader(train_dataset, batch_size=4, shuffle=True, collate_fn=empty_collate)\n",
    "valid_loader = DataLoader(valid_dataset, batch_size=2, shuffle=False, collate_fn=empty_collate)\n",
    "test_loader = DataLoader(test_dataset, batch_size=2, shuffle=False, collate_fn=empty_collate)"
   ]
  },
  {
   "cell_type": "code",
   "execution_count": 10,
   "id": "942cf78e",
   "metadata": {},
   "outputs": [
    {
     "data": {
      "text/plain": [
       "[{'text': '@user @user @user Right, well. Merlin, I\\'ll be checking on you um... tomorrow. Please have clothes on.\"',\n",
       "  'label': 1},\n",
       " {'text': \"@user You baaad mutha shut yo mouth, just heard the interview for your memoirs @user Sunday. You're like an Oracle, a shinning Star.\",\n",
       "  'label': 1},\n",
       " {'text': 'Re doing a bio and watching the Republicans debate while smashing some Pineapple sherbet. Not sure what to make of this evening lol',\n",
       "  'label': 1},\n",
       " {'text': 'Not half as ridiculous as the story of a state govt. spending hundred of millions on prayer warriors against Boko Haram! #Sunday #Church',\n",
       "  'label': 1}]"
      ]
     },
     "execution_count": 10,
     "metadata": {},
     "output_type": "execute_result"
    }
   ],
   "source": [
    "for batch in train_loader:\n",
    "    break\n",
    "\n",
    "batch"
   ]
  },
  {
   "cell_type": "markdown",
   "id": "91ca5081",
   "metadata": {},
   "source": [
    "## Формат батча\n",
    "```python\n",
    "batch = [\n",
    "    {\n",
    "        \"text\": \"text1\",\n",
    "        \"label\": 0\n",
    "    }, \n",
    "    {\n",
    "        \"text\": \"text2\",\n",
    "        \"label\": 1\n",
    "    },\n",
    "    ...,\n",
    "    {\n",
    "        \"text\": \"textn\",\n",
    "        \"label\": 1\n",
    "    }\n",
    "]\n",
    "```\n",
    "То есть теперь у нас есть список, где каждый элемент — это словарь со значениями `text` и `label`.  \n",
    "\n",
    "Вы можете сделать функцию или класс с методом `collate`. Этот способ решения домашки предодчтительней, так как использовать `collate` очень хорошая практика.\n",
    "\n",
    "Что я предлагаю:\n",
    "- Сделайте класс `Tokenizer`"
   ]
  },
  {
   "cell_type": "code",
   "execution_count": 45,
   "id": "3b9ddcca",
   "metadata": {},
   "outputs": [],
   "source": [
    "class Tokenizer:\n",
    "    \n",
    "    def __init__(self, base_tokenizer, token2index, pad_token, unk_token, max_length):\n",
    "\n",
    "        print(\"Tokenizer initializing...\")\n",
    "        self._base_tokenizer = base_tokenizer  # например ToktokTokenizer()\n",
    "\n",
    "        self.token2index = token2index  # словарь из load_embeddings()\n",
    "        \n",
    "        print(\"Setting up the padding token...\")\n",
    "        self.pad_token = pad_token\n",
    "        if not self.pad_token in token2index.keys():\n",
    "            token2index[self.pad_token] = len(token2index)\n",
    "        self.pad_index = self.token2index[self.pad_token]\n",
    "        \n",
    "        print(\"Setting up the unknown token...\")\n",
    "        self.unk_token = unk_token\n",
    "        if not self.unk_token in token2index.keys():\n",
    "            token2index[self.unk_token] = len(token2index)\n",
    "        self.unk_index = self.token2index[self.unk_token]\n",
    "        \n",
    "        self.max_length = max_length\n",
    "\n",
    "        print(\"Initialization finished\")\n",
    "\n",
    "    def tokenize(self, text):\n",
    "        \"\"\"\n",
    "        В этом методе нужно разделить строку текста на токены\n",
    "        \"\"\"\n",
    "        return self._base_tokenizer.tokenize(text) # returns text.split()*\n",
    "            \n",
    "    \n",
    "    def indexing(self, tokenized_text):\n",
    "        \"\"\"\n",
    "        В этом методе нужно перевести список токенов в список с индексами этих токенов\n",
    "        \"\"\"\n",
    "        index_list = []\n",
    "        for token in tokenized_text:\n",
    "                index_list.append(self.token2index[token] if token in token2index.keys() \\\n",
    "                    else self.token2index[\"<unk>\"])\n",
    "        return index_list\n",
    "        \n",
    "\n",
    "    def padding(self, tokens_indices):\n",
    "        \"\"\"\n",
    "        В этом методе нужно сделать длину tokens_indices равной self.max_length\n",
    "        Опционально убрать повторяющиеся unk'и\n",
    "        \"\"\"\n",
    "        while len(tokens_indices) != self.max_length:\n",
    "            tokens_indices.append(self.token2index[self.pad_token])\n",
    "        \n",
    "    \n",
    "    def __call__(self, text):\n",
    "        \"\"\"\n",
    "        В этом методе нужно перевести строку с текстом в вектор с индексами слов нужно размера (self.max_length)\n",
    "        \"\"\"\n",
    "        tokens = self.tokenize(text)\n",
    "        index_vector = []\n",
    "        for token in tokens:\n",
    "            if token in token2index.keys():\n",
    "                index_vector.append(token2index[token])\n",
    "        \n",
    "        self.padding(index_vector)\n",
    "\n",
    "        return index_vector\n",
    "        \n",
    "    def collate(self, batch):\n",
    "        \"\"\"\n",
    "        batch sample {\n",
    "            text: str\n",
    "            label: int\n",
    "        }\n",
    "        \"\"\"\n",
    "        tokenized_texts = list()\n",
    "        labels = list()\n",
    "        \n",
    "        for sample in batch:\n",
    "            labels.append(sample['label'])\n",
    "            tokens = self.tokenize(sample['text'])\n",
    "            indices = self.indexing(tokens)\n",
    "            self.padding(indices)\n",
    "            tokenized_texts.append(indices)\n",
    "\n",
    "            \n",
    "        tokenized_texts = torch.Tensor(tokenized_texts)  # перевод в torch.Tensor\n",
    "        labels = torch.Tensor(labels)  # перевод в torch.Tensor\n",
    "        \n",
    "        return tokenized_texts, labels"
   ]
  },
  {
   "cell_type": "code",
   "execution_count": 35,
   "id": "e15a9f7c",
   "metadata": {},
   "outputs": [],
   "source": [
    "def load_embeddings(path, num_tokens=100_000):\n",
    "    \"\"\"\n",
    "    {label: int, text: str}\n",
    "    \"\"\"\n",
    "\n",
    "    # token2index: Dict[str, int] = {\n",
    "    #     \"<pad>\": 0,\n",
    "    #     \"<unk>\": 1\n",
    "    # }\n",
    "    token2index: Dict[str, int] = {}\n",
    "    embeddings_matrix: np.array = []\n",
    "\n",
    "    with open(path, 'r') as file:\n",
    "        vocab_size, emb_dim = file.readline().strip().split()\n",
    "        emb_dim = int(emb_dim)\n",
    "        vocab_size = int(vocab_size)\n",
    "\n",
    "        num_tokens = min(num_tokens, vocab_size)\n",
    "\n",
    "        progress_bar = tqdm(total=num_tokens, disable=False, desc='Reading embeddings file')\n",
    "\n",
    "        for line in file:\n",
    "            content = line.strip().split()\n",
    "\n",
    "            token = ' '.join(content[:-emb_dim]).lower()\n",
    "\n",
    "            if token in token2index:\n",
    "                continue\n",
    "\n",
    "            word_vector = np.array(list(map(float, content[-emb_dim:])))\n",
    "            token2index[token] = len(token2index)\n",
    "            embeddings_matrix.append(word_vector)\n",
    "\n",
    "            progress_bar.update()\n",
    "\n",
    "            if len(token2index) == num_tokens:\n",
    "                break\n",
    "\n",
    "        progress_bar.close()\n",
    "\n",
    "        embeddings_matrix = np.stack(embeddings_matrix)\n",
    "    \n",
    "    assert(len(token2index) == embeddings_matrix.shape[0])\n",
    "    \n",
    "    return token2index, embeddings_matrix"
   ]
  },
  {
   "cell_type": "code",
   "execution_count": 36,
   "id": "d31402ba",
   "metadata": {},
   "outputs": [
    {
     "name": "stderr",
     "output_type": "stream",
     "text": [
      "Reading embeddings file: 100%|██████████| 100000/100000 [00:05<00:00, 19772.91it/s]"
     ]
    },
    {
     "name": "stdout",
     "output_type": "stream",
     "text": [
      "Tokenizer initializing...\n",
      "Setting up the padding token...\n",
      "Setting up the unknown token...\n",
      "Initialization finished\n"
     ]
    },
    {
     "name": "stderr",
     "output_type": "stream",
     "text": [
      "\n"
     ]
    },
    {
     "data": {
      "text/plain": [
       "<__main__.Tokenizer at 0x7fcd03af3100>"
      ]
     },
     "execution_count": 36,
     "metadata": {},
     "output_type": "execute_result"
    }
   ],
   "source": [
    "tokenizer = Tokenizer(ToktokTokenizer(), load_embeddings(path=\"cc.ru.300.vec\")[0], '<pad>', '<unk>', 100)\n",
    "tokenizer"
   ]
  },
  {
   "cell_type": "code",
   "execution_count": null,
   "id": "2ddca07b",
   "metadata": {},
   "outputs": [],
   "source": []
  },
  {
   "cell_type": "markdown",
   "id": "11ab7e6d",
   "metadata": {},
   "source": [
    "## Перед реализацией выбранного метода\n",
    "Советую, чтобы в итоге `Loader` отдавал кортеж с двумя тензорами:\n",
    "- `torch.Tensor` с индексами токенов, размерность `(batch_size, sequence_length)`\n",
    "- `torch.Tensor` с индексами таргетов, размерность `(batch_size)`\n",
    "\n",
    "То есть, чтобы было так:\n",
    "```python\n",
    "for x, y in train_loader:\n",
    "    ...\n",
    "\n",
    ">> x\n",
    ">> tensor([[   37,  3889,   470,  ...,     0,     0,     0],\n",
    "           [ 1509,   581,   144,  ...,     0,     0,     0],\n",
    "           [ 1804,   893,  2457,  ...,     0,     0,     0],\n",
    "           ...,\n",
    "           [  170, 39526,  2102,  ...,     0,     0,     0],\n",
    "           [ 1217,   172, 28440,  ...,     0,     0,     0],\n",
    "           [   37,    56,   603,  ...,     0,     0,     0]])\n",
    "\n",
    ">> y\n",
    ">> tensor([1, 2, 2, 2, 1, 1, 1, 1, 2, 1, 1, 2, 2, 1, 1, 1, 1, 1, 0, 1, 2, 0, 0, 1,\n",
    "           0, 2, 1, 1, 0, 1, 2, 0, 2, 1, 2, 1, 1, 1, 2, 1, 1, 0, 1, 1, 1, 0, 1, 0,\n",
    "           1, 0, 2, 2, 2, 1, 1, 2, 2, 2, 1, 2, 0, 1, 0, 2, 1, 2, 2, 1, 0, 0, 2, 2,\n",
    "           2, 1, 2, 0, 2, 2, 0, 2, 0, 1, 1, 1, 2, 2, 2, 1, 1, 1, 1, 2, 1, 0, 2, 2,\n",
    "           2, 1, 1, 1, 1, 1, 2, 2, 2, 2, 1, 1, 2, 1, 1, 0, 1, 1, 1, 2, 2, 1, 2, 1,\n",
    "           2, 1, 1, 2, 2, 1, 1, 2])\n",
    "\n",
    ">> x.shape\n",
    ">> torch.Size([128, 64])\n",
    "\n",
    ">> y.shape\n",
    ">> torch.Size([128])\n",
    "```\n",
    "При условии, что батч сайз равен 128, а максимальная длина последовательности равна 64."
   ]
  },
  {
   "cell_type": "code",
   "execution_count": 13,
   "id": "b09e6a9f",
   "metadata": {},
   "outputs": [],
   "source": [
    "#!wget  https://dl.fbaipublicfiles.com/fasttext/vectors-crawl/cc.ru.300.vec.gz\n",
    "#!gzip -d cc.ru.300.vec.gz"
   ]
  },
  {
   "cell_type": "code",
   "execution_count": 46,
   "id": "41ed0aa1",
   "metadata": {},
   "outputs": [
    {
     "name": "stderr",
     "output_type": "stream",
     "text": [
      "Reading embeddings file: 100%|██████████| 100000/100000 [00:04<00:00, 20039.82it/s]"
     ]
    },
    {
     "name": "stdout",
     "output_type": "stream",
     "text": [
      "Tokenizer initializing...\n",
      "Setting up the padding token...\n",
      "Setting up the unknown token...\n",
      "Initialization finished\n"
     ]
    },
    {
     "name": "stderr",
     "output_type": "stream",
     "text": [
      "\n"
     ]
    }
   ],
   "source": [
    "tokenizer = Tokenizer(ToktokTokenizer(), load_embeddings(path=\"cc.ru.300.vec\")[0], '<pad>', '<unk>', 100)"
   ]
  },
  {
   "cell_type": "code",
   "execution_count": 47,
   "id": "40268f8c",
   "metadata": {},
   "outputs": [],
   "source": [
    "train_loader = DataLoader(train_dataset, batch_size=2, shuffle=True, collate_fn=tokenizer.collate)\n",
    "valid_loader = DataLoader(valid_dataset, batch_size=2, shuffle=False, collate_fn=tokenizer.collate)\n",
    "test_loader = DataLoader(test_dataset, batch_size=2, shuffle=False, collate_fn=tokenizer.collate)"
   ]
  },
  {
   "cell_type": "code",
   "execution_count": 48,
   "id": "fbcf8016",
   "metadata": {},
   "outputs": [
    {
     "data": {
      "text/plain": [
       "<torch.utils.data.dataloader.DataLoader at 0x7fcd01115ee0>"
      ]
     },
     "execution_count": 48,
     "metadata": {},
     "output_type": "execute_result"
    }
   ],
   "source": [
    "train_loader"
   ]
  },
  {
   "cell_type": "code",
   "execution_count": 50,
   "id": "d293b759",
   "metadata": {},
   "outputs": [
    {
     "name": "stdout",
     "output_type": "stream",
     "text": [
      "tensor([[1.0000e+05, 1.5250e+04, 3.4200e+03, 8.5517e+04, 3.4200e+03, 6.9238e+04,\n",
      "         2.7742e+04, 1.4232e+04, 1.5026e+04, 1.0000e+05, 3.4000e+01, 1.0979e+04,\n",
      "         3.1358e+04, 1.0000e+05, 1.0000e+05, 2.5000e+01, 1.0000e+05, 1.0000e+05,\n",
      "         1.0000e+05, 1.0000e+05, 1.0000e+05, 1.0000e+05, 1.0000e+05, 1.0000e+05,\n",
      "         1.0000e+05, 1.0000e+05, 1.0000e+05, 1.0000e+05, 1.0000e+05, 1.0000e+05,\n",
      "         1.0000e+05, 1.0000e+05, 1.0000e+05, 1.0000e+05, 1.0000e+05, 1.0000e+05,\n",
      "         1.0000e+05, 1.0000e+05, 1.0000e+05, 1.0000e+05, 1.0000e+05, 1.0000e+05,\n",
      "         1.0000e+05, 1.0000e+05, 1.0000e+05, 1.0000e+05, 1.0000e+05, 1.0000e+05,\n",
      "         1.0000e+05, 1.0000e+05, 1.0000e+05, 1.0000e+05, 1.0000e+05, 1.0000e+05,\n",
      "         1.0000e+05, 1.0000e+05, 1.0000e+05, 1.0000e+05, 1.0000e+05, 1.0000e+05,\n",
      "         1.0000e+05, 1.0000e+05, 1.0000e+05, 1.0000e+05, 1.0000e+05, 1.0000e+05,\n",
      "         1.0000e+05, 1.0000e+05, 1.0000e+05, 1.0000e+05, 1.0000e+05, 1.0000e+05,\n",
      "         1.0000e+05, 1.0000e+05, 1.0000e+05, 1.0000e+05, 1.0000e+05, 1.0000e+05,\n",
      "         1.0000e+05, 1.0000e+05, 1.0000e+05, 1.0000e+05, 1.0000e+05, 1.0000e+05,\n",
      "         1.0000e+05, 1.0000e+05, 1.0000e+05, 1.0000e+05, 1.0000e+05, 1.0000e+05,\n",
      "         1.0000e+05, 1.0000e+05, 1.0000e+05, 1.0000e+05, 1.0000e+05, 1.0000e+05,\n",
      "         1.0000e+05, 1.0000e+05, 1.0000e+05, 1.0000e+05],\n",
      "        [1.0000e+05, 1.0000e+05, 6.6500e+02, 1.0000e+05, 4.1896e+04, 2.5000e+01,\n",
      "         5.7400e+02, 8.4210e+03, 3.6074e+04, 3.1500e+03, 0.0000e+00, 1.5492e+04,\n",
      "         1.0000e+05, 7.0500e+02, 1.0000e+05, 2.5000e+01, 8.6957e+04, 1.0000e+05,\n",
      "         2.5000e+01, 1.0000e+05, 1.0000e+05, 3.1730e+03, 1.0000e+05, 5.7400e+02,\n",
      "         1.0000e+05, 1.0000e+05, 7.0500e+02, 1.0000e+05, 4.0290e+04, 2.3732e+04,\n",
      "         2.5000e+01, 9.0000e+00, 1.0000e+05, 1.0000e+05, 1.0000e+05, 1.0000e+05,\n",
      "         1.0000e+05, 1.0000e+05, 1.0000e+05, 1.0000e+05, 1.0000e+05, 1.0000e+05,\n",
      "         1.0000e+05, 1.0000e+05, 1.0000e+05, 1.0000e+05, 1.0000e+05, 1.0000e+05,\n",
      "         1.0000e+05, 1.0000e+05, 1.0000e+05, 1.0000e+05, 1.0000e+05, 1.0000e+05,\n",
      "         1.0000e+05, 1.0000e+05, 1.0000e+05, 1.0000e+05, 1.0000e+05, 1.0000e+05,\n",
      "         1.0000e+05, 1.0000e+05, 1.0000e+05, 1.0000e+05, 1.0000e+05, 1.0000e+05,\n",
      "         1.0000e+05, 1.0000e+05, 1.0000e+05, 1.0000e+05, 1.0000e+05, 1.0000e+05,\n",
      "         1.0000e+05, 1.0000e+05, 1.0000e+05, 1.0000e+05, 1.0000e+05, 1.0000e+05,\n",
      "         1.0000e+05, 1.0000e+05, 1.0000e+05, 1.0000e+05, 1.0000e+05, 1.0000e+05,\n",
      "         1.0000e+05, 1.0000e+05, 1.0000e+05, 1.0000e+05, 1.0000e+05, 1.0000e+05,\n",
      "         1.0000e+05, 1.0000e+05, 1.0000e+05, 1.0000e+05, 1.0000e+05, 1.0000e+05,\n",
      "         1.0000e+05, 1.0000e+05, 1.0000e+05, 1.0000e+05]]) tensor([1., 1.])\n"
     ]
    }
   ],
   "source": [
    "for x, y in train_loader:\n",
    "    break\n",
    "\n",
    "print(x, y)"
   ]
  },
  {
   "cell_type": "code",
   "execution_count": 15,
   "id": "87752ad7",
   "metadata": {},
   "outputs": [],
   "source": [
    "assert(isinstance(x, torch.Tensor))\n",
    "assert(len(x.size()) == 2)\n",
    "\n",
    "assert(isinstance(y, torch.Tensor))\n",
    "assert(len(y.size()) == 1)"
   ]
  },
  {
   "cell_type": "markdown",
   "id": "dbc96104",
   "metadata": {},
   "source": [
    "# Реализация DAN\n",
    "\n",
    "На вход модели будут подавать индексы слов\n",
    "\n",
    "Шаги:\n",
    "- Переводим индексы слов в эмбеддинги\n",
    "- Усредняем эмбеддинги\n",
    "- Пропускаем усредненные эмбеддинги через `Multilayer Perceptron`\n",
    "    - Нужно реализовать самому\n",
    "\n",
    "### Что нужно сделать в домашке с точки зрения архитектуры сети:\n",
    "- Реализовать skip-connection (residual connection) в линейном слое\n",
    "- Написать свой слой, в котором будут (порядок слоев ниже напутан, так что сами подумайте в каком порядке стоит расположить эти слои) :\n",
    "  - `Dropout`\n",
    "  - `BatchNorm` / `LayerNorm`\n",
    "  - `Residual`, если вы не меняете размерность векторов\n",
    "  - Функция активации\n",
    "  - Линейный слой\n",
    "\n",
    "### Опциональные задания:\n",
    "- Использовать токенизатор и слой эмбеддингов от предобученного трансформера из библиотеки `transformers`\n",
    "- Сделать усреднение эмбеддингов с учетом падов\n",
    "  - Мы используем пады, чтобы сделать единую длину последовательностей в батче\n",
    "    - То есть у нас максимальная длина в батче, например, 16 токенов, поэтому ко всем последовательностям, у которых длина ниже мы добавляем `16 - len(sequence)` падов\n",
    "  - То есть получается так, что усредненный вектор предложения зависит от максимальный длины в батче, потому что\n",
    "    - Среднее вектора `[1, 2, 3]` будет `2`. Среднее вектора `[1, 2, 3, 0, 0]` будет `1.2`\n",
    "    - Получается, что усредняя с падами мы получаем \"неправильный\" вектор\n",
    "  - То есть наши предсказания будут зависеть от того сколько падов у нас есть в предложении\n",
    "  - Когда мы будем использовать нашу сетку в реальном процессе, скорее всего, мы будем подавать в нее по одному примеру, где падов не будет\n",
    "    - То есть получается мы будем использовать нашу модель не в той же среде, как и обучали\n",
    "      - Потому что наши входы меняются, мы не используем пады, результат усреднения другой\n",
    "    - Это называется `distribution shift`, то есть когда мы учимся на одних данных, а используем на других\n",
    "      - Это не всегда плохо, потому что иногда только так мы и можем учиться, например, когда мало данных нужного домена\n",
    "      - Это плохо тогда, когда мы вносим это \"случайно\", например, как с неправильным усреднением, то есть это своебразный баг\n"
   ]
  },
  {
   "cell_type": "markdown",
   "id": "123324f0",
   "metadata": {},
   "source": [
    "## До обучения\n",
    "- Выберите метрику(ки) качества и расскажите почему она(они)\n",
    "    - Обычно есть основная метрика, по которой принимаем решения какие веса брать и дополнительные, которые нам помогут делать выводы, например, о том все ли хорошо с нашими данными, хорошо ли модель справляется с дисбалансом классов и тд\n",
    "- Эту домашку можно сделать и на `CPU`, но на `GPU` будет сильно быстрее\n",
    "    - Во всех остальных домашках мы будем учить модели на `GPU`\n",
    "    - Рано или поздно вам придется посмотреть этот [туториал](https://www.youtube.com/watch?v=pgk1zGv5lU4)\n",
    "    - Вы можете обучаться на `colab`, это бесплатно\n",
    "\n",
    "## До эпохи\n",
    "- Сделайте списки/словари/другое, чтобы сохранять нужные данные для расчета метрик(и) по всей эпохе для трейна и валидации\n",
    "\n",
    "## Во время эпохи\n",
    "- Используйте [`tqdm`](https://github.com/tqdm/tqdm) как прогресс бар, чтобы понимать как проходит ваше обучение\n",
    "- Логируйте лосс\n",
    "- Логируйте метрику(ки) по батчу\n",
    "- Сохраняйте то, что вам нужно, чтобы посчитать метрик(и) на всю эпоху для трейна и валидации\n",
    "\n",
    "## После эпохи\n",
    "- Посчитайте метрик(и) на всю эпоху для трейна и валидации\n",
    "\n",
    "## После обучения\n",
    "- Провалидируйтесь на тестовом наборе и посмотрите метрики\n",
    "- Постройте [`classification_report`](https://scikit-learn.org/stable/modules/generated/sklearn.metrics.classification_report.html)\n",
    "- Постройте графики:\n",
    "    - [Confusion Matrix](https://scikit-learn.org/stable/modules/model_evaluation.html#confusion-matrix)\n",
    "    - [Опционально] Распределение вероятностей мажоритарного класса (то есть для какого-то примера мы выбираем такой класс и вероятность этого выбора такая-то) на трейне/тесте/валидации\n",
    "        - Если класс был выбран верно и если была ошибка\n",
    "- Подумайте что еще вам будет полезно для того, чтобы ответить на такие вопросы: \n",
    "    - Что в моделе можно улучшить?\n",
    "    - Все ли хорошо с моими данными?\n",
    "    - Все ли хорошо с валидацией?\n",
    "    - Не переобучился ли я?\n",
    "    - Достаточно ли я посмотрел на данные?\n",
    "    - Нужно ли мне улучшить предобработку данных?\n",
    "    - Нужно ли поменять токенизацию или эмбеддинги?\n",
    "    - Нет ли у меня багов в реализации?\n",
    "    - Какие типичные ошибки у моей модели?\n",
    "    - Как я могу их исправить?"
   ]
  },
  {
   "cell_type": "code",
   "execution_count": 19,
   "id": "a067d717",
   "metadata": {},
   "outputs": [
    {
     "name": "stderr",
     "output_type": "stream",
     "text": [
      "Reading embeddings file: 100%|██████████| 100000/100000 [00:05<00:00, 18840.72it/s]\n"
     ]
    }
   ],
   "source": [
    "token2index, embeddings = load_embeddings(\"cc.ru.300.vec\")"
   ]
  },
  {
   "cell_type": "code",
   "execution_count": 24,
   "id": "da42260c",
   "metadata": {},
   "outputs": [],
   "source": [
    "class DeepAverageNetwork(nn.Module):\n",
    "    # out_dim = 3, потому что 3 класса: негативный, нейтральный и позитивный\n",
    "    def __init__(self, emb_dim, embeddings = torch.Tensor(embeddings), out_dim = 3, token2index = token2index) -> None:\n",
    "        super().__init__()\n",
    "        self.token2index = token2index\n",
    "        self.emb_dim = emb_dim\n",
    "        self.out_dim = out_dim\n",
    "        self.vocab_size = len(token2index)\n",
    "        self.embeddings = nn.Embedding(self.vocab_size, self.emb_dim).from_pretrained(embeddings)\n",
    "        \n",
    "        # modules\n",
    "        # - `Dropout`\n",
    "        # - `BatchNorm` / `LayerNorm`\n",
    "        # - `Residual`, если вы не меняете размерность векторов\n",
    "        # - Функция активации\n",
    "        # - Линейный слой\n",
    "        self.linear1 = torch.nn.Linear(self.emb_dim, self.emb_dim)\n",
    "        self.linear2 = torch.nn.Linear(self.emb_dim, self.emb_dim)\n",
    "        self.relu = torch.nn.ReLU()\n",
    "        self.norm = torch.nn.BatchNorm1d(self.emb_dim)\n",
    "        self.dropout = torch.nn.Dropout()\n",
    "        self.activate = torch.nn.Softmax(1)\n",
    "\n",
    "    def forward(self, x):\n",
    "        norm = self.norm(x)\n",
    "        x = self.relu(self.linear1(norm))\n",
    "        x = self.dropout(x)\n",
    "        x = self.relu(self.linear2(x)) + norm\n",
    "        x = self.activate(x)\n",
    "        return x"
   ]
  },
  {
   "cell_type": "code",
   "execution_count": 25,
   "id": "7966f715",
   "metadata": {},
   "outputs": [],
   "source": [
    "model = DeepAverageNetwork(300)"
   ]
  },
  {
   "cell_type": "code",
   "execution_count": 26,
   "id": "4b4a2161",
   "metadata": {},
   "outputs": [
    {
     "data": {
      "text/plain": [
       "DeepAverageNetwork(\n",
       "  (embeddings): Embedding(100000, 300)\n",
       "  (linear1): Linear(in_features=300, out_features=300, bias=True)\n",
       "  (linear2): Linear(in_features=300, out_features=300, bias=True)\n",
       "  (relu): ReLU()\n",
       "  (norm): BatchNorm1d(300, eps=1e-05, momentum=0.1, affine=True, track_running_stats=True)\n",
       "  (dropout): Dropout(p=0.5, inplace=False)\n",
       "  (activate): Softmax(dim=1)\n",
       ")"
      ]
     },
     "execution_count": 26,
     "metadata": {},
     "output_type": "execute_result"
    }
   ],
   "source": [
    "model"
   ]
  },
  {
   "cell_type": "markdown",
   "id": "5efad1d1",
   "metadata": {},
   "source": [
    "## Функция потерь и оптимизатор"
   ]
  },
  {
   "cell_type": "code",
   "execution_count": 28,
   "id": "34c552fa",
   "metadata": {},
   "outputs": [],
   "source": [
    "criterion = torch.nn.CrossEntropyLoss()\n",
    "optimizer = torch.optim.Adam(model.parameters(), lr=0.001)"
   ]
  },
  {
   "cell_type": "markdown",
   "id": "628847fe",
   "metadata": {},
   "source": [
    "## Сделайте цикл обучения"
   ]
  },
  {
   "cell_type": "code",
   "execution_count": 31,
   "id": "b634b9ce",
   "metadata": {},
   "outputs": [
    {
     "name": "stdout",
     "output_type": "stream",
     "text": [
      "Running epoch 0, best test loss: 100000.0 on epoch -1\n"
     ]
    },
    {
     "ename": "KeyError",
     "evalue": "'MT'",
     "output_type": "error",
     "traceback": [
      "\u001b[0;31m---------------------------------------------------------------------------\u001b[0m",
      "\u001b[0;31mKeyError\u001b[0m                                  Traceback (most recent call last)",
      "Cell \u001b[0;32mIn [31], line 13\u001b[0m\n\u001b[1;32m     10\u001b[0m tr_loss \u001b[39m=\u001b[39m \u001b[39m0\u001b[39m\n\u001b[1;32m     11\u001b[0m model\u001b[39m.\u001b[39mtrain()\n\u001b[0;32m---> 13\u001b[0m \u001b[39mfor\u001b[39;00m i, (x, y) \u001b[39min\u001b[39;00m \u001b[39menumerate\u001b[39m(train_loader):\n\u001b[1;32m     14\u001b[0m     step \u001b[39m+\u001b[39m\u001b[39m=\u001b[39m \u001b[39m1\u001b[39m\n\u001b[1;32m     15\u001b[0m     optimizer\u001b[39m.\u001b[39mzero_grad()\n",
      "File \u001b[0;32m~/Deps/miniconda3/envs/cv/lib/python3.9/site-packages/torch/utils/data/dataloader.py:681\u001b[0m, in \u001b[0;36m_BaseDataLoaderIter.__next__\u001b[0;34m(self)\u001b[0m\n\u001b[1;32m    678\u001b[0m \u001b[39mif\u001b[39;00m \u001b[39mself\u001b[39m\u001b[39m.\u001b[39m_sampler_iter \u001b[39mis\u001b[39;00m \u001b[39mNone\u001b[39;00m:\n\u001b[1;32m    679\u001b[0m     \u001b[39m# TODO(https://github.com/pytorch/pytorch/issues/76750)\u001b[39;00m\n\u001b[1;32m    680\u001b[0m     \u001b[39mself\u001b[39m\u001b[39m.\u001b[39m_reset()  \u001b[39m# type: ignore[call-arg]\u001b[39;00m\n\u001b[0;32m--> 681\u001b[0m data \u001b[39m=\u001b[39m \u001b[39mself\u001b[39;49m\u001b[39m.\u001b[39;49m_next_data()\n\u001b[1;32m    682\u001b[0m \u001b[39mself\u001b[39m\u001b[39m.\u001b[39m_num_yielded \u001b[39m+\u001b[39m\u001b[39m=\u001b[39m \u001b[39m1\u001b[39m\n\u001b[1;32m    683\u001b[0m \u001b[39mif\u001b[39;00m \u001b[39mself\u001b[39m\u001b[39m.\u001b[39m_dataset_kind \u001b[39m==\u001b[39m _DatasetKind\u001b[39m.\u001b[39mIterable \u001b[39mand\u001b[39;00m \\\n\u001b[1;32m    684\u001b[0m         \u001b[39mself\u001b[39m\u001b[39m.\u001b[39m_IterableDataset_len_called \u001b[39mis\u001b[39;00m \u001b[39mnot\u001b[39;00m \u001b[39mNone\u001b[39;00m \u001b[39mand\u001b[39;00m \\\n\u001b[1;32m    685\u001b[0m         \u001b[39mself\u001b[39m\u001b[39m.\u001b[39m_num_yielded \u001b[39m>\u001b[39m \u001b[39mself\u001b[39m\u001b[39m.\u001b[39m_IterableDataset_len_called:\n",
      "File \u001b[0;32m~/Deps/miniconda3/envs/cv/lib/python3.9/site-packages/torch/utils/data/dataloader.py:721\u001b[0m, in \u001b[0;36m_SingleProcessDataLoaderIter._next_data\u001b[0;34m(self)\u001b[0m\n\u001b[1;32m    719\u001b[0m \u001b[39mdef\u001b[39;00m \u001b[39m_next_data\u001b[39m(\u001b[39mself\u001b[39m):\n\u001b[1;32m    720\u001b[0m     index \u001b[39m=\u001b[39m \u001b[39mself\u001b[39m\u001b[39m.\u001b[39m_next_index()  \u001b[39m# may raise StopIteration\u001b[39;00m\n\u001b[0;32m--> 721\u001b[0m     data \u001b[39m=\u001b[39m \u001b[39mself\u001b[39;49m\u001b[39m.\u001b[39;49m_dataset_fetcher\u001b[39m.\u001b[39;49mfetch(index)  \u001b[39m# may raise StopIteration\u001b[39;00m\n\u001b[1;32m    722\u001b[0m     \u001b[39mif\u001b[39;00m \u001b[39mself\u001b[39m\u001b[39m.\u001b[39m_pin_memory:\n\u001b[1;32m    723\u001b[0m         data \u001b[39m=\u001b[39m _utils\u001b[39m.\u001b[39mpin_memory\u001b[39m.\u001b[39mpin_memory(data, \u001b[39mself\u001b[39m\u001b[39m.\u001b[39m_pin_memory_device)\n",
      "File \u001b[0;32m~/Deps/miniconda3/envs/cv/lib/python3.9/site-packages/torch/utils/data/_utils/fetch.py:52\u001b[0m, in \u001b[0;36m_MapDatasetFetcher.fetch\u001b[0;34m(self, possibly_batched_index)\u001b[0m\n\u001b[1;32m     50\u001b[0m \u001b[39melse\u001b[39;00m:\n\u001b[1;32m     51\u001b[0m     data \u001b[39m=\u001b[39m \u001b[39mself\u001b[39m\u001b[39m.\u001b[39mdataset[possibly_batched_index]\n\u001b[0;32m---> 52\u001b[0m \u001b[39mreturn\u001b[39;00m \u001b[39mself\u001b[39;49m\u001b[39m.\u001b[39;49mcollate_fn(data)\n",
      "Cell \u001b[0;32mIn [11], line 84\u001b[0m, in \u001b[0;36mTokenizer.collate\u001b[0;34m(self, batch)\u001b[0m\n\u001b[1;32m     82\u001b[0m     labels\u001b[39m.\u001b[39mappend(sample[\u001b[39m'\u001b[39m\u001b[39mlabel\u001b[39m\u001b[39m'\u001b[39m])\n\u001b[1;32m     83\u001b[0m     tokens \u001b[39m=\u001b[39m \u001b[39mself\u001b[39m\u001b[39m.\u001b[39mtokenize(sample[\u001b[39m'\u001b[39m\u001b[39mtext\u001b[39m\u001b[39m'\u001b[39m])\n\u001b[0;32m---> 84\u001b[0m     indices \u001b[39m=\u001b[39m \u001b[39mself\u001b[39;49m\u001b[39m.\u001b[39;49mindexing(tokens)\n\u001b[1;32m     85\u001b[0m     tokenized_texts\u001b[39m.\u001b[39mappend(\u001b[39mself\u001b[39m\u001b[39m.\u001b[39mpadding(indices))\n\u001b[1;32m     88\u001b[0m tokenized_texts \u001b[39m=\u001b[39m torch\u001b[39m.\u001b[39mTensor(tokenized_texts)  \u001b[39m# перевод в torch.Tensor\u001b[39;00m\n",
      "Cell \u001b[0;32mIn [11], line 39\u001b[0m, in \u001b[0;36mTokenizer.indexing\u001b[0;34m(self, tokenized_text)\u001b[0m\n\u001b[1;32m     37\u001b[0m index_list \u001b[39m=\u001b[39m []\n\u001b[1;32m     38\u001b[0m \u001b[39mfor\u001b[39;00m token \u001b[39min\u001b[39;00m tokenized_text:\n\u001b[0;32m---> 39\u001b[0m     index_list\u001b[39m.\u001b[39mappend(\u001b[39mself\u001b[39;49m\u001b[39m.\u001b[39;49mtoken2index[token])\n\u001b[1;32m     40\u001b[0m \u001b[39mreturn\u001b[39;00m index_list\n",
      "\u001b[0;31mKeyError\u001b[0m: 'MT'"
     ]
    }
   ],
   "source": [
    "NUM_EPOCHS = 5  # Задайте количество эпох\n",
    "# Добавить .to(device) чтобы учить на гпу?\n",
    "best_epoch = -1\n",
    "best_test_loss = 1e5\n",
    "f1_score = -1e5\n",
    "for n_epoch in range(NUM_EPOCHS):\n",
    "    # TRAIN\n",
    "    print(f\"Running epoch {n_epoch}, best test loss: {best_test_loss} on epoch {best_epoch}\")\n",
    "    step = 0\n",
    "    tr_loss = 0\n",
    "    model.train()\n",
    "\n",
    "    for i, (x, y) in enumerate(train_loader):\n",
    "        step += 1\n",
    "        optimizer.zero_grad()\n",
    "        y_pred = model(x)\n",
    "        loss = criterion(y, y_pred)\n",
    "        loss.backward()\n",
    "        tr_loss += loss.item()\n",
    "        optimizer.step()\n",
    "    tr_loss /= step\n",
    "    \n",
    "    # TEST\n",
    "    step = 0\n",
    "    te_loss = 0\n",
    "    with torch.no_grad():\n",
    "        model.eval()\n",
    "        for i, (x, y) in enumerate(test_loader):\n",
    "            step += 1\n",
    "            y_pred = model(x)\n",
    "            loss = criterion(y, y_pred)\n",
    "            te_loss += loss.item()\n",
    "        te_loss /= step\n",
    "\n",
    "    if te_loss < best_te_loss:\n",
    "        best_te_loss = te_loss\n",
    "        best_ep = n_epoch\n",
    "        # torch.save(model.state_dict(), f\"best_model.pt\")\n",
    "    print(f\"epoch {n_epoch}, tr_loss {tr_loss}, te_loss {te_loss}\")\n",
    "\n",
    "\n",
    "    \n",
    "# VALIDATE\n",
    "print(\"Validating...\")\n",
    "step = 0\n",
    "val_loss = 0\n",
    "with torch.no_grad():\n",
    "    model.eval()\n",
    "    for i, (x, y) in enumerate(valid_loader):\n",
    "        step += 1\n",
    "        y_pred = model(x)\n",
    "        loss = criterion(y, y_pred)\n",
    "        val_loss += loss.item()\n",
    "    val_loss /= step\n",
    "print(f\"val_loss = {val_loss}\")\n",
    "        \n",
    "\n"
   ]
  },
  {
   "cell_type": "markdown",
   "id": "87583e79",
   "metadata": {},
   "source": [
    "# Выводы\n",
    "Напишите небольшой отчет о проделанной работе. Что удалось, в чем не уверены, что делать дальше."
   ]
  },
  {
   "cell_type": "code",
   "execution_count": null,
   "id": "c3ad7f80",
   "metadata": {},
   "outputs": [],
   "source": []
  }
 ],
 "metadata": {
  "kernelspec": {
   "display_name": "Python 3.9.12 ('cv')",
   "language": "python",
   "name": "python3"
  },
  "language_info": {
   "codemirror_mode": {
    "name": "ipython",
    "version": 3
   },
   "file_extension": ".py",
   "mimetype": "text/x-python",
   "name": "python",
   "nbconvert_exporter": "python",
   "pygments_lexer": "ipython3",
   "version": "3.9.15"
  },
  "vscode": {
   "interpreter": {
    "hash": "c881db0e76e4d07227a54605e4579ac40ea89326ca18881e5cf3019b0657001f"
   }
  }
 },
 "nbformat": 4,
 "nbformat_minor": 5
}
