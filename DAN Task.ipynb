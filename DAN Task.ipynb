{
  "cells": [
    {
      "cell_type": "code",
      "execution_count": 5,
      "metadata": {
        "colab": {
          "base_uri": "https://localhost:8080/"
        },
        "id": "7f9c64fb",
        "outputId": "1176504a-2bb9-4d9f-9b8a-a7128e1f6647"
      },
      "outputs": [
        {
          "output_type": "stream",
          "name": "stdout",
          "text": [
            "Looking in indexes: https://pypi.org/simple, https://us-python.pkg.dev/colab-wheels/public/simple/\n",
            "Requirement already satisfied: datasets in /usr/local/lib/python3.8/dist-packages (2.7.1)\n",
            "Requirement already satisfied: dill<0.3.7 in /usr/local/lib/python3.8/dist-packages (from datasets) (0.3.6)\n",
            "Requirement already satisfied: fsspec[http]>=2021.11.1 in /usr/local/lib/python3.8/dist-packages (from datasets) (2022.11.0)\n",
            "Requirement already satisfied: responses<0.19 in /usr/local/lib/python3.8/dist-packages (from datasets) (0.18.0)\n",
            "Requirement already satisfied: tqdm>=4.62.1 in /usr/local/lib/python3.8/dist-packages (from datasets) (4.64.1)\n",
            "Requirement already satisfied: pyarrow>=6.0.0 in /usr/local/lib/python3.8/dist-packages (from datasets) (9.0.0)\n",
            "Requirement already satisfied: requests>=2.19.0 in /usr/local/lib/python3.8/dist-packages (from datasets) (2.23.0)\n",
            "Requirement already satisfied: xxhash in /usr/local/lib/python3.8/dist-packages (from datasets) (3.1.0)\n",
            "Requirement already satisfied: pyyaml>=5.1 in /usr/local/lib/python3.8/dist-packages (from datasets) (6.0)\n",
            "Requirement already satisfied: pandas in /usr/local/lib/python3.8/dist-packages (from datasets) (1.3.5)\n",
            "Requirement already satisfied: huggingface-hub<1.0.0,>=0.2.0 in /usr/local/lib/python3.8/dist-packages (from datasets) (0.11.1)\n",
            "Requirement already satisfied: packaging in /usr/local/lib/python3.8/dist-packages (from datasets) (21.3)\n",
            "Requirement already satisfied: aiohttp in /usr/local/lib/python3.8/dist-packages (from datasets) (3.8.3)\n",
            "Requirement already satisfied: numpy>=1.17 in /usr/local/lib/python3.8/dist-packages (from datasets) (1.21.6)\n",
            "Requirement already satisfied: multiprocess in /usr/local/lib/python3.8/dist-packages (from datasets) (0.70.14)\n",
            "Requirement already satisfied: async-timeout<5.0,>=4.0.0a3 in /usr/local/lib/python3.8/dist-packages (from aiohttp->datasets) (4.0.2)\n",
            "Requirement already satisfied: frozenlist>=1.1.1 in /usr/local/lib/python3.8/dist-packages (from aiohttp->datasets) (1.3.3)\n",
            "Requirement already satisfied: yarl<2.0,>=1.0 in /usr/local/lib/python3.8/dist-packages (from aiohttp->datasets) (1.8.1)\n",
            "Requirement already satisfied: attrs>=17.3.0 in /usr/local/lib/python3.8/dist-packages (from aiohttp->datasets) (22.1.0)\n",
            "Requirement already satisfied: aiosignal>=1.1.2 in /usr/local/lib/python3.8/dist-packages (from aiohttp->datasets) (1.3.1)\n",
            "Requirement already satisfied: charset-normalizer<3.0,>=2.0 in /usr/local/lib/python3.8/dist-packages (from aiohttp->datasets) (2.1.1)\n",
            "Requirement already satisfied: multidict<7.0,>=4.5 in /usr/local/lib/python3.8/dist-packages (from aiohttp->datasets) (6.0.2)\n",
            "Requirement already satisfied: filelock in /usr/local/lib/python3.8/dist-packages (from huggingface-hub<1.0.0,>=0.2.0->datasets) (3.8.0)\n",
            "Requirement already satisfied: typing-extensions>=3.7.4.3 in /usr/local/lib/python3.8/dist-packages (from huggingface-hub<1.0.0,>=0.2.0->datasets) (4.1.1)\n",
            "Requirement already satisfied: pyparsing!=3.0.5,>=2.0.2 in /usr/local/lib/python3.8/dist-packages (from packaging->datasets) (3.0.9)\n",
            "Requirement already satisfied: certifi>=2017.4.17 in /usr/local/lib/python3.8/dist-packages (from requests>=2.19.0->datasets) (2022.9.24)\n",
            "Requirement already satisfied: chardet<4,>=3.0.2 in /usr/local/lib/python3.8/dist-packages (from requests>=2.19.0->datasets) (3.0.4)\n",
            "Requirement already satisfied: idna<3,>=2.5 in /usr/local/lib/python3.8/dist-packages (from requests>=2.19.0->datasets) (2.10)\n",
            "Requirement already satisfied: urllib3!=1.25.0,!=1.25.1,<1.26,>=1.21.1 in /usr/local/lib/python3.8/dist-packages (from requests>=2.19.0->datasets) (1.25.11)\n",
            "Requirement already satisfied: python-dateutil>=2.7.3 in /usr/local/lib/python3.8/dist-packages (from pandas->datasets) (2.8.2)\n",
            "Requirement already satisfied: pytz>=2017.3 in /usr/local/lib/python3.8/dist-packages (from pandas->datasets) (2022.6)\n",
            "Requirement already satisfied: six>=1.5 in /usr/local/lib/python3.8/dist-packages (from python-dateutil>=2.7.3->pandas->datasets) (1.15.0)\n"
          ]
        }
      ],
      "source": [
        "from typing import Dict, List\n",
        "\n",
        "import matplotlib.pyplot as plt\n",
        "import numpy as np\n",
        "import pandas as pd\n",
        "import seaborn as sns\n",
        "import torch\n",
        "!pip install datasets\n",
        "from datasets import load_dataset\n",
        "from nltk.tokenize import ToktokTokenizer\n",
        "from sklearn.metrics import f1_score\n",
        "from torch import nn\n",
        "from torch.utils.data import DataLoader\n",
        "from tqdm import tqdm"
      ],
      "id": "7f9c64fb"
    },
    {
      "cell_type": "markdown",
      "metadata": {
        "id": "102d7074"
      },
      "source": [
        "# Deep Average Network для определения сентимента "
      ],
      "id": "102d7074"
    },
    {
      "cell_type": "markdown",
      "metadata": {
        "id": "46d972fe"
      },
      "source": [
        "В этой домашке мы будет классифицировать твиты на 3 тональности.  \n",
        "Вы будете использовать предобученные эмбеддинги слов, так что для начала обязательно нужно посмотреть [туториал по их использованию](https://github.com/BobaZooba/DeepNLP/blob/master/Tutorials/Word%20vectors%20%26%20Data%20Loading.ipynb).\n",
        "\n",
        "Наши классы:  \n",
        "\n",
        "Индекс | Sentiment  \n",
        "-- | --  \n",
        "0 | negative  \n",
        "1 | neutral  \n",
        "2 | positive  "
      ],
      "id": "46d972fe"
    },
    {
      "cell_type": "markdown",
      "metadata": {
        "id": "55010212"
      },
      "source": [
        "Вам предстоит реализовать такую модель:\n",
        "![Архитектура модели DAN](https://www.researchgate.net/profile/Shervin-Minaee/publication/340523298/figure/fig1/AS:878252264550411@1586403065555/The-architecture-of-the-Deep-Average-Network-DAN-10.ppm)\n",
        "\n",
        "Что она из себя представляет:\n",
        "- Мы подаем в нее индексы слов\n",
        "- Переводим индексы слов в эмбеддинги\n",
        "- Усредняем эмбеддинги\n",
        "- Пропускаем усредненные эмбеддинги через `Multilayer Perceptron`\n",
        "\n",
        "В этой домашке вам предстоит:\n",
        "- Перевести тексты в матрицы с индексами токенов\n",
        "- Реализовать модель\n",
        "- Обучить ее\n",
        "- Понять хорошо ли вы это сделали\n",
        "\n",
        "Это очень важная модель, потому что она очень простая и показывает достаточно высокие метрики. В дальнейшем на работе советую использовать такую модель как бейзлайн. И в качестве эмбеддингов слов взять эмбеддинги от берта/роберты/тд."
      ],
      "id": "55010212"
    },
    {
      "cell_type": "markdown",
      "metadata": {
        "id": "65faf753"
      },
      "source": [
        "## 🤗 Datasets\n",
        "В этом туториале мы будем использовать подготовленные данные из библиотеки [datasets](https://github.com/huggingface/datasets). Мы вряд ли еще будем пользоваться этой библиотекой, так как нам будет важно самим подготавливать данные. Во-первых, для простоты, во-вторых, здесь есть достаточно неплохие практики. [Здесь](https://huggingface.co/datasets) вы сможете найти достаточно большое количество различных датасетов. Возможно, когда-нибудь они вам пригодятся."
      ],
      "id": "65faf753"
    },
    {
      "cell_type": "markdown",
      "metadata": {
        "id": "5927f02a"
      },
      "source": [
        "## Загрузите эмбеддинги слов\n",
        "Реализуйте функцию по загрузке эмбеддингов из файла. Она должна отдавать словарь слов и `np.array`\n",
        "Формат словаря:\n",
        "```python\n",
        "{\n",
        "    'aabra': 0,\n",
        "    ...,\n",
        "    'mom': 6546,\n",
        "    ...\n",
        "    'xyz': 100355\n",
        "}\n",
        "```\n",
        "Формат матрицы эмбеддингов:\n",
        "```python\n",
        "array([[0.44442278, 0.28644582, 0.04357426, ..., 0.9425766 , 0.02024289,\n",
        "        0.88456545],\n",
        "       [0.77599317, 0.35188237, 0.54801261, ..., 0.91134102, 0.88599103,\n",
        "        0.88068835],\n",
        "       [0.68071886, 0.29352313, 0.95952505, ..., 0.19127958, 0.97723054,\n",
        "        0.36294011],\n",
        "       ...,\n",
        "       [0.03589378, 0.85429694, 0.33437761, ..., 0.39784873, 0.80368014,\n",
        "        0.76368042],\n",
        "       [0.01498725, 0.78155695, 0.80372969, ..., 0.82051826, 0.42314861,\n",
        "        0.18655465],\n",
        "       [0.69263802, 0.82090775, 0.27150426, ..., 0.86582747, 0.40896573,\n",
        "        0.33423976]])\n",
        "```\n",
        "\n",
        "Количество строк в матрице эмбеддингов должно совпадать с размером словаря, то есть для каждого токена должен быть свой эмбеддинг. По параметру `num_tokens` должно брать не более указано в этом параметре количество токенов в словарь и матрицу эмбеддингов."
      ],
      "id": "5927f02a"
    },
    {
      "cell_type": "markdown",
      "metadata": {
        "id": "c46b2b68"
      },
      "source": [
        "## Загружаем данные из библиотеки\n",
        "Мы сразу получим `torch.utils.data.Dataset`, который сможем передать в `torch.utils.data.DataLoader`"
      ],
      "id": "c46b2b68"
    },
    {
      "cell_type": "code",
      "execution_count": 6,
      "metadata": {
        "colab": {
          "base_uri": "https://localhost:8080/"
        },
        "id": "e54fdaa8",
        "outputId": "94b709bb-9299-4563-d5aa-d266a13d6388"
      },
      "outputs": [
        {
          "output_type": "stream",
          "name": "stderr",
          "text": [
            "WARNING:datasets.builder:Found cached dataset tweet_eval (/root/.cache/huggingface/datasets/tweet_eval/sentiment/1.1.0/12aee5282b8784f3e95459466db4cdf45c6bf49719c25cdb0743d71ed0410343)\n",
            "WARNING:datasets.builder:Found cached dataset tweet_eval (/root/.cache/huggingface/datasets/tweet_eval/sentiment/1.1.0/12aee5282b8784f3e95459466db4cdf45c6bf49719c25cdb0743d71ed0410343)\n",
            "WARNING:datasets.builder:Found cached dataset tweet_eval (/root/.cache/huggingface/datasets/tweet_eval/sentiment/1.1.0/12aee5282b8784f3e95459466db4cdf45c6bf49719c25cdb0743d71ed0410343)\n"
          ]
        }
      ],
      "source": [
        "dataset_path = \"tweet_eval\"\n",
        "dataset_name = \"sentiment\"\n",
        "\n",
        "train_dataset = load_dataset(path=dataset_path, name=dataset_name, split=\"train\")\n",
        "valid_dataset = load_dataset(path=dataset_path, name=dataset_name, split=\"validation\")\n",
        "test_dataset = load_dataset(path=dataset_path, name=dataset_name, split=\"test\")"
      ],
      "id": "e54fdaa8"
    },
    {
      "cell_type": "markdown",
      "metadata": {
        "id": "ad4a0650"
      },
      "source": [
        "## `torch.utils.data.DataLoader`"
      ],
      "id": "ad4a0650"
    },
    {
      "cell_type": "code",
      "execution_count": 7,
      "metadata": {
        "id": "dc742027"
      },
      "outputs": [],
      "source": [
        "train_loader = DataLoader(train_dataset, batch_size=2, shuffle=True)\n",
        "valid_loader = DataLoader(valid_dataset, batch_size=2, shuffle=False)\n",
        "test_loader = DataLoader(test_dataset, batch_size=2, shuffle=False)"
      ],
      "id": "dc742027"
    },
    {
      "cell_type": "markdown",
      "metadata": {
        "id": "e9012ae5"
      },
      "source": [
        "## Посмотрим что отдает нам `Loader`\n",
        "Это батч формата:\n",
        "```python\n",
        "batch = {\n",
        "    \"text\": [\n",
        "        \"text1\",\n",
        "        \"text2\",\n",
        "        ...,\n",
        "        \"textn\"\n",
        "    ],\n",
        "    \"label\": tensor([\n",
        "        1,\n",
        "        1,\n",
        "        ...,\n",
        "        0\n",
        "    ])\n",
        "}\n",
        "```\n",
        "То есть у нас есть словарь с двумя ключами `text` и `label`, где хранится n примеров. То есть для 5-го примера в батче текст будет храниться в `batch[\"text\"][5]`, а индекс класса будет храниться в `batch[\"label\"][5]`."
      ],
      "id": "e9012ae5"
    },
    {
      "cell_type": "code",
      "execution_count": 8,
      "metadata": {
        "colab": {
          "base_uri": "https://localhost:8080/"
        },
        "id": "49bf6b50",
        "outputId": "5ee09316-24b0-425c-d3d0-3faa8d1f2942"
      },
      "outputs": [
        {
          "output_type": "execute_result",
          "data": {
            "text/plain": [
              "{'text': ['\"when the workers at Dunkin say \"\"see you tomorrow\"\" @user @user',\n",
              "  'Captain Dubs! David Wright gives the Mets back the lead with an RBI single to make it 6-5 Mets in the 7th inning'],\n",
              " 'label': tensor([1, 2])}"
            ]
          },
          "metadata": {},
          "execution_count": 8
        }
      ],
      "source": [
        "for batch in train_loader:\n",
        "    break\n",
        "\n",
        "batch"
      ],
      "id": "49bf6b50"
    },
    {
      "cell_type": "markdown",
      "metadata": {
        "id": "b0b9f0e6"
      },
      "source": [
        "## Collate\n",
        "Сейчас перед нами стоит проблема: мы получаем тексты в виде строк, а нам нужны тензоры (матрицы) с индексами токенов, к тому же нам нужно западить последовательности токенов, чтобы все сложить в торчовую матрицу. Мы можем сделать это двумя способами:\n",
        "- Достать из `train/valid/test_dataset` данные и написать свой `Dataset`, где внутри будет токенизировать текст, токены будут переводиться в индексы и затем последовательность будет падиться до нужной длины\n",
        "- Сделать функцию, которая бы дополнительно обрабатывали наши батчи. Она вставляется в `DataLoader(collate_fn=<ВАША_ФУНКЦИЯ>)`"
      ],
      "id": "b0b9f0e6"
    },
    {
      "cell_type": "markdown",
      "metadata": {
        "id": "d03b0f2e"
      },
      "source": [
        "## Если вы хотите сделать свой `Dataset`\n",
        "То вы можете достать данные таким образом."
      ],
      "id": "d03b0f2e"
    },
    {
      "cell_type": "code",
      "execution_count": 9,
      "metadata": {
        "colab": {
          "base_uri": "https://localhost:8080/"
        },
        "id": "26771f88",
        "outputId": "579e9818-d618-4234-c02e-f790ac784885"
      },
      "outputs": [
        {
          "output_type": "execute_result",
          "data": {
            "text/plain": [
              "(45615, 45615)"
            ]
          },
          "metadata": {},
          "execution_count": 9
        }
      ],
      "source": [
        "len(train_dataset[\"text\"]), len(train_dataset[\"label\"])"
      ],
      "id": "26771f88"
    },
    {
      "cell_type": "code",
      "execution_count": 10,
      "metadata": {
        "colab": {
          "base_uri": "https://localhost:8080/"
        },
        "id": "f25200be",
        "outputId": "1d773c73-958b-4cf2-8b37-4e7ccdb41de1"
      },
      "outputs": [
        {
          "output_type": "execute_result",
          "data": {
            "text/plain": [
              "['\"QT @user In the original draft of the 7th book, Remus Lupin survived the Battle of Hogwarts. #HappyBirthdayRemusLupin\"',\n",
              " '\"Ben Smith / Smith (concussion) remains out of the lineup Thursday, Curtis #NHL #SJ\"']"
            ]
          },
          "metadata": {},
          "execution_count": 10
        }
      ],
      "source": [
        "train_dataset[\"text\"][:2]"
      ],
      "id": "f25200be"
    },
    {
      "cell_type": "code",
      "execution_count": 11,
      "metadata": {
        "colab": {
          "base_uri": "https://localhost:8080/"
        },
        "id": "d4c952b6",
        "outputId": "88f00083-bb28-475f-d24a-7727ab930033"
      },
      "outputs": [
        {
          "output_type": "execute_result",
          "data": {
            "text/plain": [
              "[2, 1]"
            ]
          },
          "metadata": {},
          "execution_count": 11
        }
      ],
      "source": [
        "train_dataset[\"label\"][:2]"
      ],
      "id": "d4c952b6"
    },
    {
      "cell_type": "markdown",
      "metadata": {
        "id": "68184652"
      },
      "source": [
        "## Если вы хотите сделать `collate_fn`"
      ],
      "id": "68184652"
    },
    {
      "cell_type": "markdown",
      "metadata": {
        "id": "706dab4d"
      },
      "source": [
        "### Давайте посмотрим что вообще происходит внутри этого метода\n",
        "Для этого сделаем функцию `empty_collate`, которая принимает на вход батч и отдает его, ничего с ним не делая"
      ],
      "id": "706dab4d"
    },
    {
      "cell_type": "code",
      "execution_count": 12,
      "metadata": {
        "id": "3b7ce86b"
      },
      "outputs": [],
      "source": [
        "def empty_collate(batch):\n",
        "    return batch"
      ],
      "id": "3b7ce86b"
    },
    {
      "cell_type": "code",
      "execution_count": 13,
      "metadata": {
        "id": "26f0fe92"
      },
      "outputs": [],
      "source": [
        "train_loader = DataLoader(train_dataset, batch_size=4, shuffle=True, collate_fn=empty_collate)\n",
        "valid_loader = DataLoader(valid_dataset, batch_size=2, shuffle=False, collate_fn=empty_collate)\n",
        "test_loader = DataLoader(test_dataset, batch_size=2, shuffle=False, collate_fn=empty_collate)"
      ],
      "id": "26f0fe92"
    },
    {
      "cell_type": "code",
      "execution_count": 14,
      "metadata": {
        "colab": {
          "base_uri": "https://localhost:8080/"
        },
        "id": "942cf78e",
        "outputId": "fa1e77fa-916f-4833-f1d4-c67a8569c072"
      },
      "outputs": [
        {
          "output_type": "execute_result",
          "data": {
            "text/plain": [
              "[{'text': '\"Is Carly Fiorina Better Off Being Left Out?: Despite her rise in the polls, the GOP contender still may not ma...',\n",
              "  'label': 1},\n",
              " {'text': \"Mayweather ends feud with Rousey: 'I wish her nothing but the best'\",\n",
              "  'label': 1},\n",
              " {'text': '\"Stylistically this is a horrible match up for Rousey, look at the stats. I won\\'t be surprised if Rousey takes the L in January #UFC195\"',\n",
              "  'label': 0},\n",
              " {'text': \"ICYMI: CNN's criteria for the next Republican debate may end up leaving Carly Fiorina out.\",\n",
              "  'label': 0}]"
            ]
          },
          "metadata": {},
          "execution_count": 14
        }
      ],
      "source": [
        "for batch in train_loader:\n",
        "    break\n",
        "\n",
        "batch"
      ],
      "id": "942cf78e"
    },
    {
      "cell_type": "markdown",
      "metadata": {
        "id": "91ca5081"
      },
      "source": [
        "## Формат батча\n",
        "```python\n",
        "batch = [\n",
        "    {\n",
        "        \"text\": \"text1\",\n",
        "        \"label\": 0\n",
        "    }, \n",
        "    {\n",
        "        \"text\": \"text2\",\n",
        "        \"label\": 1\n",
        "    },\n",
        "    ...,\n",
        "    {\n",
        "        \"text\": \"textn\",\n",
        "        \"label\": 1\n",
        "    }\n",
        "]\n",
        "```\n",
        "То есть теперь у нас есть список, где каждый элемент — это словарь со значениями `text` и `label`.  \n",
        "\n",
        "Вы можете сделать функцию или класс с методом `collate`. Этот способ решения домашки предодчтительней, так как использовать `collate` очень хорошая практика.\n",
        "\n",
        "Что я предлагаю:\n",
        "- Сделайте класс `Tokenizer`"
      ],
      "id": "91ca5081"
    },
    {
      "cell_type": "code",
      "execution_count": 15,
      "metadata": {
        "id": "3b9ddcca"
      },
      "outputs": [],
      "source": [
        "class Tokenizer:\n",
        "    \n",
        "    def __init__(self, base_tokenizer, token2index, pad_token, unk_token, max_length):\n",
        "\n",
        "        print(\"Tokenizer initializing...\")\n",
        "        self._base_tokenizer = base_tokenizer  # например ToktokTokenizer()\n",
        "\n",
        "        self.token2index = token2index  # словарь из load_embeddings()\n",
        "        \n",
        "        print(\"Setting up the padding token...\")\n",
        "        self.pad_token = pad_token\n",
        "        if not self.pad_token in token2index.keys():\n",
        "            token2index[self.pad_token] = len(token2index)\n",
        "        self.pad_index = self.token2index[self.pad_token]\n",
        "        \n",
        "        print(\"Setting up the unknown token...\")\n",
        "        self.unk_token = unk_token\n",
        "        if not self.unk_token in token2index.keys():\n",
        "            token2index[self.unk_token] = len(token2index)\n",
        "        self.unk_index = self.token2index[self.unk_token]\n",
        "        \n",
        "        self.max_length = max_length\n",
        "\n",
        "        print(\"Initialization finished\")\n",
        "\n",
        "    def tokenize(self, text):\n",
        "        \"\"\"\n",
        "        В этом методе нужно разделить строку текста на токены\n",
        "        \"\"\"\n",
        "        return self._base_tokenizer.tokenize(text) # returns text.split()*\n",
        "            \n",
        "    \n",
        "    def indexing(self, tokenized_text):\n",
        "        \"\"\"\n",
        "        В этом методе нужно перевести список токенов в список с индексами этих токенов\n",
        "        \"\"\"\n",
        "        index_list = []\n",
        "        for token in tokenized_text:\n",
        "                index_list.append(self.token2index[token] if token in token2index.keys() \\\n",
        "                    else self.token2index[\"<unk>\"])\n",
        "        return index_list\n",
        "        \n",
        "\n",
        "    def padding(self, tokens_indices):\n",
        "        \"\"\"\n",
        "        В этом методе нужно сделать длину tokens_indices равной self.max_length\n",
        "        Опционально убрать повторяющиеся unk'и\n",
        "        \"\"\"\n",
        "        while len(tokens_indices) != self.max_length:\n",
        "            tokens_indices.append(self.token2index[self.pad_token])\n",
        "        \n",
        "    \n",
        "    def __call__(self, text):\n",
        "        \"\"\"\n",
        "        В этом методе нужно перевести строку с текстом в вектор с индексами слов нужно размера (self.max_length)\n",
        "        \"\"\"\n",
        "        tokens = self.tokenize(text)\n",
        "        index_vector = []\n",
        "        for token in tokens:\n",
        "            if token in token2index.keys():\n",
        "                index_vector.append(token2index[token])\n",
        "        \n",
        "        self.padding(index_vector)\n",
        "\n",
        "        return index_vector\n",
        "        \n",
        "    def collate(self, batch):\n",
        "        \"\"\"\n",
        "        batch sample {\n",
        "            text: str\n",
        "            label: int\n",
        "        }\n",
        "        \"\"\"\n",
        "        tokenized_texts = list()\n",
        "        labels = list()\n",
        "        \n",
        "        for sample in batch:\n",
        "            labels.append(sample['label'])\n",
        "            tokens = self.tokenize(sample['text'])\n",
        "            indices = self.indexing(tokens)\n",
        "            self.padding(indices)\n",
        "            tokenized_texts.append(indices)\n",
        "\n",
        "            \n",
        "        tokenized_texts = torch.Tensor(tokenized_texts)  # перевод в torch.Tensor\n",
        "        labels = torch.Tensor(labels)  # перевод в torch.Tensor\n",
        "        \n",
        "        return tokenized_texts, labels"
      ],
      "id": "3b9ddcca"
    },
    {
      "cell_type": "code",
      "execution_count": 16,
      "metadata": {
        "id": "e15a9f7c"
      },
      "outputs": [],
      "source": [
        "def load_embeddings(path, num_tokens=100_000):\n",
        "    \"\"\"\n",
        "    {label: int, text: str}\n",
        "    \"\"\"\n",
        "\n",
        "    # token2index: Dict[str, int] = {\n",
        "    #     \"<pad>\": 0,\n",
        "    #     \"<unk>\": 1\n",
        "    # }\n",
        "    token2index: Dict[str, int] = {}\n",
        "    embeddings_matrix: np.array = []\n",
        "\n",
        "    with open(path, 'r') as file:\n",
        "        vocab_size, emb_dim = file.readline().strip().split()\n",
        "        emb_dim = int(emb_dim)\n",
        "        vocab_size = int(vocab_size)\n",
        "\n",
        "        num_tokens = min(num_tokens, vocab_size)\n",
        "\n",
        "        progress_bar = tqdm(total=num_tokens, disable=False, desc='Reading embeddings file')\n",
        "\n",
        "        for line in file:\n",
        "            content = line.strip().split()\n",
        "\n",
        "            token = ' '.join(content[:-emb_dim]).lower()\n",
        "\n",
        "            if token in token2index:\n",
        "                continue\n",
        "\n",
        "            word_vector = np.array(list(map(float, content[-emb_dim:])))\n",
        "            token2index[token] = len(token2index)\n",
        "            embeddings_matrix.append(word_vector)\n",
        "\n",
        "            progress_bar.update()\n",
        "\n",
        "            if len(token2index) == num_tokens:\n",
        "                break\n",
        "\n",
        "        progress_bar.close()\n",
        "\n",
        "        embeddings_matrix = np.stack(embeddings_matrix)\n",
        "    \n",
        "    assert(len(token2index) == embeddings_matrix.shape[0])\n",
        "    \n",
        "    return token2index, embeddings_matrix"
      ],
      "id": "e15a9f7c"
    },
    {
      "cell_type": "code",
      "execution_count": 17,
      "metadata": {
        "colab": {
          "base_uri": "https://localhost:8080/"
        },
        "id": "d31402ba",
        "outputId": "026c8950-203b-47ab-a446-be6ab273a520"
      },
      "outputs": [
        {
          "output_type": "stream",
          "name": "stderr",
          "text": [
            "Reading embeddings file: 100%|██████████| 100000/100000 [00:15<00:00, 6301.88it/s]\n"
          ]
        },
        {
          "output_type": "stream",
          "name": "stdout",
          "text": [
            "Tokenizer initializing...\n",
            "Setting up the padding token...\n",
            "Setting up the unknown token...\n",
            "Initialization finished\n"
          ]
        },
        {
          "output_type": "execute_result",
          "data": {
            "text/plain": [
              "<__main__.Tokenizer at 0x7fed3ad498e0>"
            ]
          },
          "metadata": {},
          "execution_count": 17
        }
      ],
      "source": [
        "tokenizer = Tokenizer(ToktokTokenizer(), load_embeddings(path=\"cc.ru.300.vec\")[0], '<pad>', '<unk>', 100)\n",
        "tokenizer"
      ],
      "id": "d31402ba"
    },
    {
      "cell_type": "markdown",
      "metadata": {
        "id": "11ab7e6d"
      },
      "source": [
        "## Перед реализацией выбранного метода\n",
        "Советую, чтобы в итоге `Loader` отдавал кортеж с двумя тензорами:\n",
        "- `torch.Tensor` с индексами токенов, размерность `(batch_size, sequence_length)`\n",
        "- `torch.Tensor` с индексами таргетов, размерность `(batch_size)`\n",
        "\n",
        "То есть, чтобы было так:\n",
        "```python\n",
        "for x, y in train_loader:\n",
        "    ...\n",
        "\n",
        ">> x\n",
        ">> tensor([[   37,  3889,   470,  ...,     0,     0,     0],\n",
        "           [ 1509,   581,   144,  ...,     0,     0,     0],\n",
        "           [ 1804,   893,  2457,  ...,     0,     0,     0],\n",
        "           ...,\n",
        "           [  170, 39526,  2102,  ...,     0,     0,     0],\n",
        "           [ 1217,   172, 28440,  ...,     0,     0,     0],\n",
        "           [   37,    56,   603,  ...,     0,     0,     0]])\n",
        "\n",
        ">> y\n",
        ">> tensor([1, 2, 2, 2, 1, 1, 1, 1, 2, 1, 1, 2, 2, 1, 1, 1, 1, 1, 0, 1, 2, 0, 0, 1,\n",
        "           0, 2, 1, 1, 0, 1, 2, 0, 2, 1, 2, 1, 1, 1, 2, 1, 1, 0, 1, 1, 1, 0, 1, 0,\n",
        "           1, 0, 2, 2, 2, 1, 1, 2, 2, 2, 1, 2, 0, 1, 0, 2, 1, 2, 2, 1, 0, 0, 2, 2,\n",
        "           2, 1, 2, 0, 2, 2, 0, 2, 0, 1, 1, 1, 2, 2, 2, 1, 1, 1, 1, 2, 1, 0, 2, 2,\n",
        "           2, 1, 1, 1, 1, 1, 2, 2, 2, 2, 1, 1, 2, 1, 1, 0, 1, 1, 1, 2, 2, 1, 2, 1,\n",
        "           2, 1, 1, 2, 2, 1, 1, 2])\n",
        "\n",
        ">> x.shape\n",
        ">> torch.Size([128, 64])\n",
        "\n",
        ">> y.shape\n",
        ">> torch.Size([128])\n",
        "```\n",
        "При условии, что батч сайз равен 128, а максимальная длина последовательности равна 64."
      ],
      "id": "11ab7e6d"
    },
    {
      "cell_type": "code",
      "execution_count": 18,
      "metadata": {
        "colab": {
          "base_uri": "https://localhost:8080/"
        },
        "id": "b09e6a9f",
        "outputId": "0e3aa779-1d91-435d-e61c-5780580b9688"
      },
      "outputs": [
        {
          "output_type": "stream",
          "name": "stdout",
          "text": [
            "--2022-12-02 12:05:25--  https://dl.fbaipublicfiles.com/fasttext/vectors-crawl/cc.ru.300.vec.gz\n",
            "Resolving dl.fbaipublicfiles.com (dl.fbaipublicfiles.com)... 172.67.9.4, 104.22.75.142, 104.22.74.142, ...\n",
            "Connecting to dl.fbaipublicfiles.com (dl.fbaipublicfiles.com)|172.67.9.4|:443... connected.\n",
            "HTTP request sent, awaiting response... 200 OK\n",
            "Length: 1306357571 (1.2G) [binary/octet-stream]\n",
            "Saving to: ‘cc.ru.300.vec.gz’\n",
            "\n",
            "cc.ru.300.vec.gz    100%[===================>]   1.22G  42.4MB/s    in 30s     \n",
            "\n",
            "2022-12-02 12:05:56 (41.7 MB/s) - ‘cc.ru.300.vec.gz’ saved [1306357571/1306357571]\n",
            "\n",
            "gzip: cc.ru.300.vec already exists; do you wish to overwrite (y or n)? n\n",
            "\tnot overwritten\n"
          ]
        }
      ],
      "source": [
        "!wget https://dl.fbaipublicfiles.com/fasttext/vectors-crawl/cc.ru.300.vec.gz\n",
        "!gzip -d cc.ru.300.vec.gz"
      ],
      "id": "b09e6a9f"
    },
    {
      "cell_type": "code",
      "execution_count": 23,
      "metadata": {
        "colab": {
          "base_uri": "https://localhost:8080/"
        },
        "id": "41ed0aa1",
        "outputId": "015b8406-0949-4cad-a085-0937fac9a8b5"
      },
      "outputs": [
        {
          "output_type": "stream",
          "name": "stderr",
          "text": [
            "Reading embeddings file: 100%|██████████| 100000/100000 [00:09<00:00, 10243.86it/s]\n"
          ]
        },
        {
          "output_type": "stream",
          "name": "stdout",
          "text": [
            "Tokenizer initializing...\n",
            "Setting up the padding token...\n",
            "Setting up the unknown token...\n",
            "Initialization finished\n"
          ]
        }
      ],
      "source": [
        "token2index, embeddings = load_embeddings(path=\"cc.ru.300.vec\")\n",
        "tokenizer = Tokenizer(ToktokTokenizer(), token2index, '<pad>', '<unk>', 300)"
      ],
      "id": "41ed0aa1"
    },
    {
      "cell_type": "code",
      "execution_count": 24,
      "metadata": {
        "id": "40268f8c"
      },
      "outputs": [],
      "source": [
        "train_loader = DataLoader(train_dataset, batch_size=2, shuffle=True, collate_fn=tokenizer.collate)\n",
        "valid_loader = DataLoader(valid_dataset, batch_size=2, shuffle=False, collate_fn=tokenizer.collate)\n",
        "test_loader = DataLoader(test_dataset, batch_size=2, shuffle=False, collate_fn=tokenizer.collate)"
      ],
      "id": "40268f8c"
    },
    {
      "cell_type": "code",
      "execution_count": 25,
      "metadata": {
        "colab": {
          "base_uri": "https://localhost:8080/"
        },
        "id": "fbcf8016",
        "outputId": "bc1ea0ab-ca0b-44aa-8a24-c29e3d035502"
      },
      "outputs": [
        {
          "output_type": "execute_result",
          "data": {
            "text/plain": [
              "<torch.utils.data.dataloader.DataLoader at 0x7fed3ad49910>"
            ]
          },
          "metadata": {},
          "execution_count": 25
        }
      ],
      "source": [
        "train_loader"
      ],
      "id": "fbcf8016"
    },
    {
      "cell_type": "code",
      "execution_count": 26,
      "metadata": {
        "colab": {
          "base_uri": "https://localhost:8080/"
        },
        "id": "d293b759",
        "outputId": "ad86aa47-7c1e-4522-e647-cea3efdb0b83"
      },
      "outputs": [
        {
          "output_type": "stream",
          "name": "stdout",
          "text": [
            "tensor([[9.0000e+00, 1.0000e+05, 4.0290e+04, 2.7900e+02, 3.4200e+03, 1.6332e+04,\n",
            "         3.4884e+04, 0.0000e+00, 1.0000e+05, 8.2780e+03, 6.6500e+02, 4.4892e+04,\n",
            "         2.1720e+03, 9.1720e+03, 2.7900e+02, 4.5560e+03, 1.0000e+05, 1.0000e+05,\n",
            "         1.0000e+05, 4.9622e+04, 6.6500e+02, 1.1581e+04, 7.8370e+03, 7.2300e+02,\n",
            "         1.0000e+05, 1.0000e+05, 1.0000e+05, 6.6500e+02, 3.5000e+01, 1.0000e+05,\n",
            "         1.0000e+05, 1.0000e+05, 1.0000e+05, 1.0000e+05, 1.0000e+05, 1.0000e+05,\n",
            "         1.0000e+05, 1.0000e+05, 1.0000e+05, 1.0000e+05, 1.0000e+05, 1.0000e+05,\n",
            "         1.0000e+05, 1.0000e+05, 1.0000e+05, 1.0000e+05, 1.0000e+05, 1.0000e+05,\n",
            "         1.0000e+05, 1.0000e+05, 1.0000e+05, 1.0000e+05, 1.0000e+05, 1.0000e+05,\n",
            "         1.0000e+05, 1.0000e+05, 1.0000e+05, 1.0000e+05, 1.0000e+05, 1.0000e+05,\n",
            "         1.0000e+05, 1.0000e+05, 1.0000e+05, 1.0000e+05, 1.0000e+05, 1.0000e+05,\n",
            "         1.0000e+05, 1.0000e+05, 1.0000e+05, 1.0000e+05, 1.0000e+05, 1.0000e+05,\n",
            "         1.0000e+05, 1.0000e+05, 1.0000e+05, 1.0000e+05, 1.0000e+05, 1.0000e+05,\n",
            "         1.0000e+05, 1.0000e+05, 1.0000e+05, 1.0000e+05, 1.0000e+05, 1.0000e+05,\n",
            "         1.0000e+05, 1.0000e+05, 1.0000e+05, 1.0000e+05, 1.0000e+05, 1.0000e+05,\n",
            "         1.0000e+05, 1.0000e+05, 1.0000e+05, 1.0000e+05, 1.0000e+05, 1.0000e+05,\n",
            "         1.0000e+05, 1.0000e+05, 1.0000e+05, 1.0000e+05, 1.0000e+05, 1.0000e+05,\n",
            "         1.0000e+05, 1.0000e+05, 1.0000e+05, 1.0000e+05, 1.0000e+05, 1.0000e+05,\n",
            "         1.0000e+05, 1.0000e+05, 1.0000e+05, 1.0000e+05, 1.0000e+05, 1.0000e+05,\n",
            "         1.0000e+05, 1.0000e+05, 1.0000e+05, 1.0000e+05, 1.0000e+05, 1.0000e+05,\n",
            "         1.0000e+05, 1.0000e+05, 1.0000e+05, 1.0000e+05, 1.0000e+05, 1.0000e+05,\n",
            "         1.0000e+05, 1.0000e+05, 1.0000e+05, 1.0000e+05, 1.0000e+05, 1.0000e+05,\n",
            "         1.0000e+05, 1.0000e+05, 1.0000e+05, 1.0000e+05, 1.0000e+05, 1.0000e+05,\n",
            "         1.0000e+05, 1.0000e+05, 1.0000e+05, 1.0000e+05, 1.0000e+05, 1.0000e+05,\n",
            "         1.0000e+05, 1.0000e+05, 1.0000e+05, 1.0000e+05, 1.0000e+05, 1.0000e+05,\n",
            "         1.0000e+05, 1.0000e+05, 1.0000e+05, 1.0000e+05, 1.0000e+05, 1.0000e+05,\n",
            "         1.0000e+05, 1.0000e+05, 1.0000e+05, 1.0000e+05, 1.0000e+05, 1.0000e+05,\n",
            "         1.0000e+05, 1.0000e+05, 1.0000e+05, 1.0000e+05, 1.0000e+05, 1.0000e+05,\n",
            "         1.0000e+05, 1.0000e+05, 1.0000e+05, 1.0000e+05, 1.0000e+05, 1.0000e+05,\n",
            "         1.0000e+05, 1.0000e+05, 1.0000e+05, 1.0000e+05, 1.0000e+05, 1.0000e+05,\n",
            "         1.0000e+05, 1.0000e+05, 1.0000e+05, 1.0000e+05, 1.0000e+05, 1.0000e+05,\n",
            "         1.0000e+05, 1.0000e+05, 1.0000e+05, 1.0000e+05, 1.0000e+05, 1.0000e+05,\n",
            "         1.0000e+05, 1.0000e+05, 1.0000e+05, 1.0000e+05, 1.0000e+05, 1.0000e+05,\n",
            "         1.0000e+05, 1.0000e+05, 1.0000e+05, 1.0000e+05, 1.0000e+05, 1.0000e+05,\n",
            "         1.0000e+05, 1.0000e+05, 1.0000e+05, 1.0000e+05, 1.0000e+05, 1.0000e+05,\n",
            "         1.0000e+05, 1.0000e+05, 1.0000e+05, 1.0000e+05, 1.0000e+05, 1.0000e+05,\n",
            "         1.0000e+05, 1.0000e+05, 1.0000e+05, 1.0000e+05, 1.0000e+05, 1.0000e+05,\n",
            "         1.0000e+05, 1.0000e+05, 1.0000e+05, 1.0000e+05, 1.0000e+05, 1.0000e+05,\n",
            "         1.0000e+05, 1.0000e+05, 1.0000e+05, 1.0000e+05, 1.0000e+05, 1.0000e+05,\n",
            "         1.0000e+05, 1.0000e+05, 1.0000e+05, 1.0000e+05, 1.0000e+05, 1.0000e+05,\n",
            "         1.0000e+05, 1.0000e+05, 1.0000e+05, 1.0000e+05, 1.0000e+05, 1.0000e+05,\n",
            "         1.0000e+05, 1.0000e+05, 1.0000e+05, 1.0000e+05, 1.0000e+05, 1.0000e+05,\n",
            "         1.0000e+05, 1.0000e+05, 1.0000e+05, 1.0000e+05, 1.0000e+05, 1.0000e+05,\n",
            "         1.0000e+05, 1.0000e+05, 1.0000e+05, 1.0000e+05, 1.0000e+05, 1.0000e+05,\n",
            "         1.0000e+05, 1.0000e+05, 1.0000e+05, 1.0000e+05, 1.0000e+05, 1.0000e+05,\n",
            "         1.0000e+05, 1.0000e+05, 1.0000e+05, 1.0000e+05, 1.0000e+05, 1.0000e+05,\n",
            "         1.0000e+05, 1.0000e+05, 1.0000e+05, 1.0000e+05, 1.0000e+05, 1.0000e+05,\n",
            "         1.0000e+05, 1.0000e+05, 1.0000e+05, 1.0000e+05, 1.0000e+05, 1.0000e+05,\n",
            "         1.0000e+05, 1.0000e+05, 1.0000e+05, 1.0000e+05, 1.0000e+05, 1.0000e+05,\n",
            "         1.0000e+05, 1.0000e+05, 1.0000e+05, 1.0000e+05, 1.0000e+05, 1.0000e+05],\n",
            "        [1.0000e+05, 1.0000e+05, 2.2819e+04, 3.4200e+03, 3.7000e+01, 1.2300e+03,\n",
            "         6.6500e+02, 6.6930e+04, 2.7900e+02, 1.0000e+05, 1.0000e+05, 0.0000e+00,\n",
            "         2.5007e+04, 4.3492e+04, 2.0000e+01, 1.0000e+05, 0.0000e+00, 1.0000e+05,\n",
            "         3.7000e+01, 2.5000e+03, 6.6500e+02, 6.6930e+04, 2.7900e+02, 1.0000e+05,\n",
            "         5.7400e+02, 1.0000e+05, 3.7000e+01, 2.7432e+04, 3.3819e+04, 8.5846e+04,\n",
            "         6.6500e+02, 1.0000e+05, 2.1720e+03, 3.5053e+04, 1.0000e+00, 9.0000e+00,\n",
            "         1.0000e+05, 1.0000e+05, 1.0000e+05, 1.0000e+05, 1.0000e+05, 1.0000e+05,\n",
            "         1.0000e+05, 1.0000e+05, 1.0000e+05, 1.0000e+05, 1.0000e+05, 1.0000e+05,\n",
            "         1.0000e+05, 1.0000e+05, 1.0000e+05, 1.0000e+05, 1.0000e+05, 1.0000e+05,\n",
            "         1.0000e+05, 1.0000e+05, 1.0000e+05, 1.0000e+05, 1.0000e+05, 1.0000e+05,\n",
            "         1.0000e+05, 1.0000e+05, 1.0000e+05, 1.0000e+05, 1.0000e+05, 1.0000e+05,\n",
            "         1.0000e+05, 1.0000e+05, 1.0000e+05, 1.0000e+05, 1.0000e+05, 1.0000e+05,\n",
            "         1.0000e+05, 1.0000e+05, 1.0000e+05, 1.0000e+05, 1.0000e+05, 1.0000e+05,\n",
            "         1.0000e+05, 1.0000e+05, 1.0000e+05, 1.0000e+05, 1.0000e+05, 1.0000e+05,\n",
            "         1.0000e+05, 1.0000e+05, 1.0000e+05, 1.0000e+05, 1.0000e+05, 1.0000e+05,\n",
            "         1.0000e+05, 1.0000e+05, 1.0000e+05, 1.0000e+05, 1.0000e+05, 1.0000e+05,\n",
            "         1.0000e+05, 1.0000e+05, 1.0000e+05, 1.0000e+05, 1.0000e+05, 1.0000e+05,\n",
            "         1.0000e+05, 1.0000e+05, 1.0000e+05, 1.0000e+05, 1.0000e+05, 1.0000e+05,\n",
            "         1.0000e+05, 1.0000e+05, 1.0000e+05, 1.0000e+05, 1.0000e+05, 1.0000e+05,\n",
            "         1.0000e+05, 1.0000e+05, 1.0000e+05, 1.0000e+05, 1.0000e+05, 1.0000e+05,\n",
            "         1.0000e+05, 1.0000e+05, 1.0000e+05, 1.0000e+05, 1.0000e+05, 1.0000e+05,\n",
            "         1.0000e+05, 1.0000e+05, 1.0000e+05, 1.0000e+05, 1.0000e+05, 1.0000e+05,\n",
            "         1.0000e+05, 1.0000e+05, 1.0000e+05, 1.0000e+05, 1.0000e+05, 1.0000e+05,\n",
            "         1.0000e+05, 1.0000e+05, 1.0000e+05, 1.0000e+05, 1.0000e+05, 1.0000e+05,\n",
            "         1.0000e+05, 1.0000e+05, 1.0000e+05, 1.0000e+05, 1.0000e+05, 1.0000e+05,\n",
            "         1.0000e+05, 1.0000e+05, 1.0000e+05, 1.0000e+05, 1.0000e+05, 1.0000e+05,\n",
            "         1.0000e+05, 1.0000e+05, 1.0000e+05, 1.0000e+05, 1.0000e+05, 1.0000e+05,\n",
            "         1.0000e+05, 1.0000e+05, 1.0000e+05, 1.0000e+05, 1.0000e+05, 1.0000e+05,\n",
            "         1.0000e+05, 1.0000e+05, 1.0000e+05, 1.0000e+05, 1.0000e+05, 1.0000e+05,\n",
            "         1.0000e+05, 1.0000e+05, 1.0000e+05, 1.0000e+05, 1.0000e+05, 1.0000e+05,\n",
            "         1.0000e+05, 1.0000e+05, 1.0000e+05, 1.0000e+05, 1.0000e+05, 1.0000e+05,\n",
            "         1.0000e+05, 1.0000e+05, 1.0000e+05, 1.0000e+05, 1.0000e+05, 1.0000e+05,\n",
            "         1.0000e+05, 1.0000e+05, 1.0000e+05, 1.0000e+05, 1.0000e+05, 1.0000e+05,\n",
            "         1.0000e+05, 1.0000e+05, 1.0000e+05, 1.0000e+05, 1.0000e+05, 1.0000e+05,\n",
            "         1.0000e+05, 1.0000e+05, 1.0000e+05, 1.0000e+05, 1.0000e+05, 1.0000e+05,\n",
            "         1.0000e+05, 1.0000e+05, 1.0000e+05, 1.0000e+05, 1.0000e+05, 1.0000e+05,\n",
            "         1.0000e+05, 1.0000e+05, 1.0000e+05, 1.0000e+05, 1.0000e+05, 1.0000e+05,\n",
            "         1.0000e+05, 1.0000e+05, 1.0000e+05, 1.0000e+05, 1.0000e+05, 1.0000e+05,\n",
            "         1.0000e+05, 1.0000e+05, 1.0000e+05, 1.0000e+05, 1.0000e+05, 1.0000e+05,\n",
            "         1.0000e+05, 1.0000e+05, 1.0000e+05, 1.0000e+05, 1.0000e+05, 1.0000e+05,\n",
            "         1.0000e+05, 1.0000e+05, 1.0000e+05, 1.0000e+05, 1.0000e+05, 1.0000e+05,\n",
            "         1.0000e+05, 1.0000e+05, 1.0000e+05, 1.0000e+05, 1.0000e+05, 1.0000e+05,\n",
            "         1.0000e+05, 1.0000e+05, 1.0000e+05, 1.0000e+05, 1.0000e+05, 1.0000e+05,\n",
            "         1.0000e+05, 1.0000e+05, 1.0000e+05, 1.0000e+05, 1.0000e+05, 1.0000e+05,\n",
            "         1.0000e+05, 1.0000e+05, 1.0000e+05, 1.0000e+05, 1.0000e+05, 1.0000e+05,\n",
            "         1.0000e+05, 1.0000e+05, 1.0000e+05, 1.0000e+05, 1.0000e+05, 1.0000e+05,\n",
            "         1.0000e+05, 1.0000e+05, 1.0000e+05, 1.0000e+05, 1.0000e+05, 1.0000e+05,\n",
            "         1.0000e+05, 1.0000e+05, 1.0000e+05, 1.0000e+05, 1.0000e+05, 1.0000e+05,\n",
            "         1.0000e+05, 1.0000e+05, 1.0000e+05, 1.0000e+05, 1.0000e+05, 1.0000e+05,\n",
            "         1.0000e+05, 1.0000e+05, 1.0000e+05, 1.0000e+05, 1.0000e+05, 1.0000e+05]]) tensor([2., 2.])\n"
          ]
        }
      ],
      "source": [
        "for x, y in train_loader:\n",
        "    break\n",
        "\n",
        "print(x, y)"
      ],
      "id": "d293b759"
    },
    {
      "cell_type": "code",
      "execution_count": 27,
      "metadata": {
        "id": "87752ad7"
      },
      "outputs": [],
      "source": [
        "assert(isinstance(x, torch.Tensor))\n",
        "assert(len(x.size()) == 2)\n",
        "\n",
        "assert(isinstance(y, torch.Tensor))\n",
        "assert(len(y.size()) == 1)"
      ],
      "id": "87752ad7"
    },
    {
      "cell_type": "markdown",
      "metadata": {
        "id": "dbc96104"
      },
      "source": [
        "# Реализация DAN\n",
        "\n",
        "На вход модели будут подавать индексы слов\n",
        "\n",
        "Шаги:\n",
        "- Переводим индексы слов в эмбеддинги\n",
        "- Усредняем эмбеддинги\n",
        "- Пропускаем усредненные эмбеддинги через `Multilayer Perceptron`\n",
        "    - Нужно реализовать самому\n",
        "\n",
        "### Что нужно сделать в домашке с точки зрения архитектуры сети:\n",
        "- Реализовать skip-connection (residual connection) в линейном слое\n",
        "- Написать свой слой, в котором будут (порядок слоев ниже напутан, так что сами подумайте в каком порядке стоит расположить эти слои) :\n",
        "  - `Dropout`\n",
        "  - `BatchNorm` / `LayerNorm`\n",
        "  - `Residual`, если вы не меняете размерность векторов\n",
        "  - Функция активации\n",
        "  - Линейный слой\n",
        "\n",
        "### Опциональные задания:\n",
        "- Использовать токенизатор и слой эмбеддингов от предобученного трансформера из библиотеки `transformers`\n",
        "- Сделать усреднение эмбеддингов с учетом падов\n",
        "  - Мы используем пады, чтобы сделать единую длину последовательностей в батче\n",
        "    - То есть у нас максимальная длина в батче, например, 16 токенов, поэтому ко всем последовательностям, у которых длина ниже мы добавляем `16 - len(sequence)` падов\n",
        "  - То есть получается так, что усредненный вектор предложения зависит от максимальный длины в батче, потому что\n",
        "    - Среднее вектора `[1, 2, 3]` будет `2`. Среднее вектора `[1, 2, 3, 0, 0]` будет `1.2`\n",
        "    - Получается, что усредняя с падами мы получаем \"неправильный\" вектор\n",
        "  - То есть наши предсказания будут зависеть от того сколько падов у нас есть в предложении\n",
        "  - Когда мы будем использовать нашу сетку в реальном процессе, скорее всего, мы будем подавать в нее по одному примеру, где падов не будет\n",
        "    - То есть получается мы будем использовать нашу модель не в той же среде, как и обучали\n",
        "      - Потому что наши входы меняются, мы не используем пады, результат усреднения другой\n",
        "    - Это называется `distribution shift`, то есть когда мы учимся на одних данных, а используем на других\n",
        "      - Это не всегда плохо, потому что иногда только так мы и можем учиться, например, когда мало данных нужного домена\n",
        "      - Это плохо тогда, когда мы вносим это \"случайно\", например, как с неправильным усреднением, то есть это своебразный баг\n"
      ],
      "id": "dbc96104"
    },
    {
      "cell_type": "markdown",
      "metadata": {
        "id": "123324f0"
      },
      "source": [
        "## До обучения\n",
        "- Выберите метрику(ки) качества и расскажите почему она(они)\n",
        "    - Обычно есть основная метрика, по которой принимаем решения какие веса брать и дополнительные, которые нам помогут делать выводы, например, о том все ли хорошо с нашими данными, хорошо ли модель справляется с дисбалансом классов и тд\n",
        "- Эту домашку можно сделать и на `CPU`, но на `GPU` будет сильно быстрее\n",
        "    - Во всех остальных домашках мы будем учить модели на `GPU`\n",
        "    - Рано или поздно вам придется посмотреть этот [туториал](https://www.youtube.com/watch?v=pgk1zGv5lU4)\n",
        "    - Вы можете обучаться на `colab`, это бесплатно\n",
        "\n",
        "## До эпохи\n",
        "- Сделайте списки/словари/другое, чтобы сохранять нужные данные для расчета метрик(и) по всей эпохе для трейна и валидации\n",
        "\n",
        "## Во время эпохи\n",
        "- Используйте [`tqdm`](https://github.com/tqdm/tqdm) как прогресс бар, чтобы понимать как проходит ваше обучение\n",
        "- Логируйте лосс\n",
        "- Логируйте метрику(ки) по батчу\n",
        "- Сохраняйте то, что вам нужно, чтобы посчитать метрик(и) на всю эпоху для трейна и валидации\n",
        "\n",
        "## После эпохи\n",
        "- Посчитайте метрик(и) на всю эпоху для трейна и валидации\n",
        "\n",
        "## После обучения\n",
        "- Провалидируйтесь на тестовом наборе и посмотрите метрики\n",
        "- Постройте [`classification_report`](https://scikit-learn.org/stable/modules/generated/sklearn.metrics.classification_report.html)\n",
        "- Постройте графики:\n",
        "    - [Confusion Matrix](https://scikit-learn.org/stable/modules/model_evaluation.html#confusion-matrix)\n",
        "    - [Опционально] Распределение вероятностей мажоритарного класса (то есть для какого-то примера мы выбираем такой класс и вероятность этого выбора такая-то) на трейне/тесте/валидации\n",
        "        - Если класс был выбран верно и если была ошибка\n",
        "- Подумайте что еще вам будет полезно для того, чтобы ответить на такие вопросы: \n",
        "    - Что в моделе можно улучшить?\n",
        "    - Все ли хорошо с моими данными?\n",
        "    - Все ли хорошо с валидацией?\n",
        "    - Не переобучился ли я?\n",
        "    - Достаточно ли я посмотрел на данные?\n",
        "    - Нужно ли мне улучшить предобработку данных?\n",
        "    - Нужно ли поменять токенизацию или эмбеддинги?\n",
        "    - Нет ли у меня багов в реализации?\n",
        "    - Какие типичные ошибки у моей модели?\n",
        "    - Как я могу их исправить?"
      ],
      "id": "123324f0"
    },
    {
      "cell_type": "code",
      "execution_count": 28,
      "metadata": {
        "colab": {
          "base_uri": "https://localhost:8080/"
        },
        "id": "a067d717",
        "outputId": "811a8498-4a7a-4741-9f2e-bc374551e84c"
      },
      "outputs": [
        {
          "output_type": "stream",
          "name": "stderr",
          "text": [
            "Reading embeddings file: 100%|██████████| 100000/100000 [00:09<00:00, 10378.96it/s]\n"
          ]
        }
      ],
      "source": [
        "token2index, embeddings = load_embeddings(\"cc.ru.300.vec\")"
      ],
      "id": "a067d717"
    },
    {
      "cell_type": "code",
      "execution_count": 29,
      "metadata": {
        "id": "da42260c"
      },
      "outputs": [],
      "source": [
        "class DeepAverageNetwork(nn.Module):\n",
        "    # out_dim = 3, потому что 3 класса: негативный, нейтральный и позитивный\n",
        "    def __init__(self, emb_dim, embeddings = torch.Tensor(embeddings), out_dim = 3, token2index = token2index) -> None:\n",
        "        super().__init__()\n",
        "        self.token2index = token2index\n",
        "        self.emb_dim = emb_dim\n",
        "        self.out_dim = out_dim\n",
        "        self.vocab_size = len(token2index)\n",
        "        self.embeddings = nn.Embedding(self.vocab_size, self.emb_dim).from_pretrained(embeddings)\n",
        "        \n",
        "        self.linear1 = torch.nn.Linear(self.emb_dim, self.emb_dim)\n",
        "        self.linear2 = torch.nn.Linear(self.emb_dim, self.emb_dim)\n",
        "        self.relu = torch.nn.ReLU()\n",
        "        self.norm = torch.nn.BatchNorm1d(self.emb_dim)\n",
        "        self.dropout = torch.nn.Dropout()\n",
        "        self.activate = torch.nn.Softmax(1)\n",
        "\n",
        "    def forward(self, x):\n",
        "        norm = self.norm(x)\n",
        "        x = self.relu(self.linear1(norm))\n",
        "        x = self.dropout(x)\n",
        "        x = self.relu(self.linear2(x)) + norm\n",
        "        x = self.activate(x)\n",
        "        return x"
      ],
      "id": "da42260c"
    },
    {
      "cell_type": "code",
      "execution_count": 30,
      "metadata": {
        "id": "7966f715"
      },
      "outputs": [],
      "source": [
        "model = DeepAverageNetwork(300)"
      ],
      "id": "7966f715"
    },
    {
      "cell_type": "code",
      "execution_count": 31,
      "metadata": {
        "colab": {
          "base_uri": "https://localhost:8080/"
        },
        "id": "4b4a2161",
        "outputId": "029a5f04-56a0-4a2c-e72e-80e6f3440189"
      },
      "outputs": [
        {
          "output_type": "execute_result",
          "data": {
            "text/plain": [
              "DeepAverageNetwork(\n",
              "  (embeddings): Embedding(100000, 300)\n",
              "  (linear1): Linear(in_features=300, out_features=300, bias=True)\n",
              "  (linear2): Linear(in_features=300, out_features=300, bias=True)\n",
              "  (relu): ReLU()\n",
              "  (norm): BatchNorm1d(300, eps=1e-05, momentum=0.1, affine=True, track_running_stats=True)\n",
              "  (dropout): Dropout(p=0.5, inplace=False)\n",
              "  (activate): Softmax(dim=1)\n",
              ")"
            ]
          },
          "metadata": {},
          "execution_count": 31
        }
      ],
      "source": [
        "model"
      ],
      "id": "4b4a2161"
    },
    {
      "cell_type": "markdown",
      "metadata": {
        "id": "5efad1d1"
      },
      "source": [
        "## Функция потерь и оптимизатор"
      ],
      "id": "5efad1d1"
    },
    {
      "cell_type": "code",
      "execution_count": 32,
      "metadata": {
        "id": "34c552fa"
      },
      "outputs": [],
      "source": [
        "criterion = torch.nn.CrossEntropyLoss()\n",
        "optimizer = torch.optim.Adam(model.parameters(), lr=0.001)"
      ],
      "id": "34c552fa"
    },
    {
      "cell_type": "markdown",
      "metadata": {
        "id": "628847fe"
      },
      "source": [
        "## Сделайте цикл обучения"
      ],
      "id": "628847fe"
    },
    {
      "cell_type": "code",
      "execution_count": 34,
      "metadata": {
        "colab": {
          "base_uri": "https://localhost:8080/"
        },
        "id": "b634b9ce",
        "outputId": "93809c43-f889-4c4c-830a-dc068e5b7ac4"
      },
      "outputs": [
        {
          "output_type": "stream",
          "name": "stdout",
          "text": [
            "Running epoch 0, best test loss: 100000.0 on epoch -1\n"
          ]
        },
        {
          "output_type": "stream",
          "name": "stderr",
          "text": [
            "100%|██████████| 22808/22808 [00:29<00:00, 767.93it/s]\n",
            "100%|██████████| 6142/6142 [00:06<00:00, 888.74it/s]\n"
          ]
        },
        {
          "output_type": "stream",
          "name": "stdout",
          "text": [
            "epoch 0, tr_loss 25.103817397305594, te_loss 254.56480364487405\n",
            "Running epoch 1, best test loss: 254.56480364487405 on epoch -1\n"
          ]
        },
        {
          "output_type": "stream",
          "name": "stderr",
          "text": [
            "100%|██████████| 22808/22808 [00:31<00:00, 713.77it/s]\n",
            "100%|██████████| 6142/6142 [00:05<00:00, 1024.81it/s]\n"
          ]
        },
        {
          "output_type": "stream",
          "name": "stdout",
          "text": [
            "epoch 1, tr_loss 25.148217200697808, te_loss 221.69678385395136\n",
            "Running epoch 2, best test loss: 221.69678385395136 on epoch -1\n"
          ]
        },
        {
          "output_type": "stream",
          "name": "stderr",
          "text": [
            "100%|██████████| 22808/22808 [00:29<00:00, 779.77it/s]\n",
            "100%|██████████| 6142/6142 [00:06<00:00, 1017.00it/s]\n"
          ]
        },
        {
          "output_type": "stream",
          "name": "stdout",
          "text": [
            "epoch 2, tr_loss 25.20002547205971, te_loss 87.43389377575362\n",
            "Running epoch 3, best test loss: 87.43389377575362 on epoch -1\n"
          ]
        },
        {
          "output_type": "stream",
          "name": "stderr",
          "text": [
            "100%|██████████| 22808/22808 [00:30<00:00, 748.01it/s]\n",
            "100%|██████████| 6142/6142 [00:06<00:00, 1023.02it/s]\n"
          ]
        },
        {
          "output_type": "stream",
          "name": "stdout",
          "text": [
            "epoch 3, tr_loss 25.12268932206641, te_loss 85.26144983061204\n",
            "Running epoch 4, best test loss: 85.26144983061204 on epoch -1\n"
          ]
        },
        {
          "output_type": "stream",
          "name": "stderr",
          "text": [
            "100%|██████████| 22808/22808 [00:29<00:00, 777.82it/s]\n",
            "100%|██████████| 6142/6142 [00:06<00:00, 1018.90it/s]\n"
          ]
        },
        {
          "output_type": "stream",
          "name": "stdout",
          "text": [
            "epoch 4, tr_loss 25.242419897533207, te_loss 79.21180605849548\n",
            "Validating...\n",
            "val_loss = 80.4844709854126\n"
          ]
        }
      ],
      "source": [
        "NUM_EPOCHS = 5  # Задайте количество эпох\n",
        "# Добавить .to(device) чтобы учить на гпу?\n",
        "best_epoch = -1\n",
        "best_test_loss = 1e5\n",
        "f1_score = -1e5\n",
        "for n_epoch in range(NUM_EPOCHS):\n",
        "    # TRAIN\n",
        "    print(f\"Running epoch {n_epoch}, best test loss: {best_test_loss} on epoch {best_epoch}\")\n",
        "    step = 0\n",
        "    tr_loss = 0\n",
        "    model.train()\n",
        "\n",
        "    pbar = tqdm(train_loader)\n",
        "    for i, (x, y) in enumerate(pbar):\n",
        "        if len(y) < 2:\n",
        "            continue\n",
        "        step += 1\n",
        "        optimizer.zero_grad()\n",
        "        y_pred = model(x)\n",
        "        y_hat = torch.Tensor(y_pred.detach().numpy().argmax(1).tolist())\n",
        "        y_hat.requires_grad_()\n",
        "        loss = criterion(y, y_hat)\n",
        "        loss.backward()\n",
        "        tr_loss += loss.item()\n",
        "        optimizer.step()\n",
        "    tr_loss /= step\n",
        "    \n",
        "    # TEST\n",
        "    step = 0\n",
        "    te_loss = 0\n",
        "    with torch.no_grad():\n",
        "        model.eval()\n",
        "        pbar = tqdm(test_loader)\n",
        "        for i, (x, y) in enumerate(pbar):\n",
        "            if len(y) < 2:\n",
        "                continue\n",
        "            step += 1\n",
        "            y_pred = model(x)\n",
        "            y_hat = torch.Tensor(y_pred.detach().numpy().argmax(1).tolist())\n",
        "            y_hat.requires_grad_()\n",
        "            loss = criterion(y, y_hat)\n",
        "            te_loss += loss.item()\n",
        "        te_loss /= step\n",
        "\n",
        "    if te_loss < best_test_loss:\n",
        "        best_test_loss = te_loss\n",
        "        best_ep = n_epoch\n",
        "        # torch.save(model.state_dict(), f\"best_model.pt\")\n",
        "    print(f\"epoch {n_epoch}, tr_loss {tr_loss}, te_loss {te_loss}\")\n",
        "\n",
        "\n",
        "    \n",
        "# VALIDATE\n",
        "print(\"Validating...\")\n",
        "step = 0\n",
        "val_loss = 0\n",
        "with torch.no_grad():\n",
        "    model.eval()\n",
        "    for i, (x, y) in enumerate(valid_loader):\n",
        "        if len(y) < 2:\n",
        "            continue\n",
        "        step += 1\n",
        "        y_pred = model(x)\n",
        "        y_hat = torch.Tensor(y_pred.detach().numpy().argmax(1).tolist())\n",
        "        y_hat.requires_grad_()\n",
        "        loss = criterion(y, y_hat)\n",
        "        val_loss += loss.item()\n",
        "    val_loss /= step\n",
        "print(f\"val_loss = {val_loss}\")\n",
        "        \n",
        "\n"
      ],
      "id": "b634b9ce"
    },
    {
      "cell_type": "code",
      "execution_count": null,
      "metadata": {
        "id": "c3ad7f80"
      },
      "outputs": [],
      "source": [],
      "id": "c3ad7f80"
    }
  ],
  "metadata": {
    "colab": {
      "provenance": []
    },
    "kernelspec": {
      "display_name": "Python 3.9.12 ('cv')",
      "language": "python",
      "name": "python3"
    },
    "language_info": {
      "codemirror_mode": {
        "name": "ipython",
        "version": 3
      },
      "file_extension": ".py",
      "mimetype": "text/x-python",
      "name": "python",
      "nbconvert_exporter": "python",
      "pygments_lexer": "ipython3",
      "version": "3.9.15"
    },
    "vscode": {
      "interpreter": {
        "hash": "c881db0e76e4d07227a54605e4579ac40ea89326ca18881e5cf3019b0657001f"
      }
    }
  },
  "nbformat": 4,
  "nbformat_minor": 5
}